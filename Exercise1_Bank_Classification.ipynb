{
  "nbformat": 4,
  "nbformat_minor": 0,
  "metadata": {
    "colab": {
      "name": "Exercise1_Bank_Classification.ipynb",
      "provenance": [],
      "collapsed_sections": [],
      "include_colab_link": true
    },
    "kernelspec": {
      "name": "python3",
      "display_name": "Python 3"
    }
  },
  "cells": [
    {
      "cell_type": "markdown",
      "metadata": {
        "id": "view-in-github",
        "colab_type": "text"
      },
      "source": [
        "<a href=\"https://colab.research.google.com/github/putricinto/Machine-Learning-Project---MLCC/blob/master/Exercise1_Bank_Classification.ipynb\" target=\"_parent\"><img src=\"https://colab.research.google.com/assets/colab-badge.svg\" alt=\"Open In Colab\"/></a>"
      ]
    },
    {
      "cell_type": "markdown",
      "metadata": {
        "id": "VsilqGJwfuHx",
        "colab_type": "text"
      },
      "source": [
        "**Bank Classification**\n",
        "\n",
        "*Bangkit DPS-1 Assignment: First Machine Learning Project*\n"
      ]
    },
    {
      "cell_type": "markdown",
      "metadata": {
        "id": "mgbumVsSxKob",
        "colab_type": "text"
      },
      "source": [
        "**Read in the csv data with pandas**\n",
        "\n",
        "\n",
        "\n"
      ]
    },
    {
      "cell_type": "code",
      "metadata": {
        "id": "aHykqvIfvT4M",
        "colab_type": "code",
        "colab": {}
      },
      "source": [
        "import pandas as pd\n",
        "import tensorflow as tf\n",
        "from sklearn.model_selection import train_test_split\n",
        "from sklearn.metrics import classification_report"
      ],
      "execution_count": 0,
      "outputs": []
    },
    {
      "cell_type": "code",
      "metadata": {
        "id": "esFj5xR9vXQI",
        "colab_type": "code",
        "colab": {
          "base_uri": "https://localhost:8080/",
          "height": 402
        },
        "outputId": "b260995b-c1b0-4f75-d546-0a2e93a0bb56"
      },
      "source": [
        "url = 'https://raw.githubusercontent.com/putricinto/Machine-Learning-Project---MLCC/master/bank.csv'\n",
        "bank = pd.read_csv(url)\n",
        "bank"
      ],
      "execution_count": 42,
      "outputs": [
        {
          "output_type": "execute_result",
          "data": {
            "text/html": [
              "<div>\n",
              "<style scoped>\n",
              "    .dataframe tbody tr th:only-of-type {\n",
              "        vertical-align: middle;\n",
              "    }\n",
              "\n",
              "    .dataframe tbody tr th {\n",
              "        vertical-align: top;\n",
              "    }\n",
              "\n",
              "    .dataframe thead th {\n",
              "        text-align: right;\n",
              "    }\n",
              "</style>\n",
              "<table border=\"1\" class=\"dataframe\">\n",
              "  <thead>\n",
              "    <tr style=\"text-align: right;\">\n",
              "      <th></th>\n",
              "      <th>age</th>\n",
              "      <th>job</th>\n",
              "      <th>marital</th>\n",
              "      <th>education</th>\n",
              "      <th>default</th>\n",
              "      <th>balance</th>\n",
              "      <th>housing</th>\n",
              "      <th>loan</th>\n",
              "      <th>contact</th>\n",
              "      <th>day</th>\n",
              "      <th>month</th>\n",
              "      <th>duration</th>\n",
              "      <th>campaign</th>\n",
              "      <th>pdays</th>\n",
              "      <th>previous</th>\n",
              "      <th>poutcome</th>\n",
              "      <th>deposit</th>\n",
              "    </tr>\n",
              "  </thead>\n",
              "  <tbody>\n",
              "    <tr>\n",
              "      <th>0</th>\n",
              "      <td>59</td>\n",
              "      <td>admin.</td>\n",
              "      <td>married</td>\n",
              "      <td>secondary</td>\n",
              "      <td>no</td>\n",
              "      <td>2343</td>\n",
              "      <td>yes</td>\n",
              "      <td>no</td>\n",
              "      <td>unknown</td>\n",
              "      <td>5</td>\n",
              "      <td>may</td>\n",
              "      <td>1042</td>\n",
              "      <td>1</td>\n",
              "      <td>-1</td>\n",
              "      <td>0</td>\n",
              "      <td>unknown</td>\n",
              "      <td>yes</td>\n",
              "    </tr>\n",
              "    <tr>\n",
              "      <th>1</th>\n",
              "      <td>56</td>\n",
              "      <td>admin.</td>\n",
              "      <td>married</td>\n",
              "      <td>secondary</td>\n",
              "      <td>no</td>\n",
              "      <td>45</td>\n",
              "      <td>no</td>\n",
              "      <td>no</td>\n",
              "      <td>unknown</td>\n",
              "      <td>5</td>\n",
              "      <td>may</td>\n",
              "      <td>1467</td>\n",
              "      <td>1</td>\n",
              "      <td>-1</td>\n",
              "      <td>0</td>\n",
              "      <td>unknown</td>\n",
              "      <td>yes</td>\n",
              "    </tr>\n",
              "    <tr>\n",
              "      <th>2</th>\n",
              "      <td>41</td>\n",
              "      <td>technician</td>\n",
              "      <td>married</td>\n",
              "      <td>secondary</td>\n",
              "      <td>no</td>\n",
              "      <td>1270</td>\n",
              "      <td>yes</td>\n",
              "      <td>no</td>\n",
              "      <td>unknown</td>\n",
              "      <td>5</td>\n",
              "      <td>may</td>\n",
              "      <td>1389</td>\n",
              "      <td>1</td>\n",
              "      <td>-1</td>\n",
              "      <td>0</td>\n",
              "      <td>unknown</td>\n",
              "      <td>yes</td>\n",
              "    </tr>\n",
              "    <tr>\n",
              "      <th>3</th>\n",
              "      <td>55</td>\n",
              "      <td>services</td>\n",
              "      <td>married</td>\n",
              "      <td>secondary</td>\n",
              "      <td>no</td>\n",
              "      <td>2476</td>\n",
              "      <td>yes</td>\n",
              "      <td>no</td>\n",
              "      <td>unknown</td>\n",
              "      <td>5</td>\n",
              "      <td>may</td>\n",
              "      <td>579</td>\n",
              "      <td>1</td>\n",
              "      <td>-1</td>\n",
              "      <td>0</td>\n",
              "      <td>unknown</td>\n",
              "      <td>yes</td>\n",
              "    </tr>\n",
              "    <tr>\n",
              "      <th>4</th>\n",
              "      <td>54</td>\n",
              "      <td>admin.</td>\n",
              "      <td>married</td>\n",
              "      <td>tertiary</td>\n",
              "      <td>no</td>\n",
              "      <td>184</td>\n",
              "      <td>no</td>\n",
              "      <td>no</td>\n",
              "      <td>unknown</td>\n",
              "      <td>5</td>\n",
              "      <td>may</td>\n",
              "      <td>673</td>\n",
              "      <td>2</td>\n",
              "      <td>-1</td>\n",
              "      <td>0</td>\n",
              "      <td>unknown</td>\n",
              "      <td>yes</td>\n",
              "    </tr>\n",
              "    <tr>\n",
              "      <th>...</th>\n",
              "      <td>...</td>\n",
              "      <td>...</td>\n",
              "      <td>...</td>\n",
              "      <td>...</td>\n",
              "      <td>...</td>\n",
              "      <td>...</td>\n",
              "      <td>...</td>\n",
              "      <td>...</td>\n",
              "      <td>...</td>\n",
              "      <td>...</td>\n",
              "      <td>...</td>\n",
              "      <td>...</td>\n",
              "      <td>...</td>\n",
              "      <td>...</td>\n",
              "      <td>...</td>\n",
              "      <td>...</td>\n",
              "      <td>...</td>\n",
              "    </tr>\n",
              "    <tr>\n",
              "      <th>11157</th>\n",
              "      <td>33</td>\n",
              "      <td>blue-collar</td>\n",
              "      <td>single</td>\n",
              "      <td>primary</td>\n",
              "      <td>no</td>\n",
              "      <td>1</td>\n",
              "      <td>yes</td>\n",
              "      <td>no</td>\n",
              "      <td>cellular</td>\n",
              "      <td>20</td>\n",
              "      <td>apr</td>\n",
              "      <td>257</td>\n",
              "      <td>1</td>\n",
              "      <td>-1</td>\n",
              "      <td>0</td>\n",
              "      <td>unknown</td>\n",
              "      <td>no</td>\n",
              "    </tr>\n",
              "    <tr>\n",
              "      <th>11158</th>\n",
              "      <td>39</td>\n",
              "      <td>services</td>\n",
              "      <td>married</td>\n",
              "      <td>secondary</td>\n",
              "      <td>no</td>\n",
              "      <td>733</td>\n",
              "      <td>no</td>\n",
              "      <td>no</td>\n",
              "      <td>unknown</td>\n",
              "      <td>16</td>\n",
              "      <td>jun</td>\n",
              "      <td>83</td>\n",
              "      <td>4</td>\n",
              "      <td>-1</td>\n",
              "      <td>0</td>\n",
              "      <td>unknown</td>\n",
              "      <td>no</td>\n",
              "    </tr>\n",
              "    <tr>\n",
              "      <th>11159</th>\n",
              "      <td>32</td>\n",
              "      <td>technician</td>\n",
              "      <td>single</td>\n",
              "      <td>secondary</td>\n",
              "      <td>no</td>\n",
              "      <td>29</td>\n",
              "      <td>no</td>\n",
              "      <td>no</td>\n",
              "      <td>cellular</td>\n",
              "      <td>19</td>\n",
              "      <td>aug</td>\n",
              "      <td>156</td>\n",
              "      <td>2</td>\n",
              "      <td>-1</td>\n",
              "      <td>0</td>\n",
              "      <td>unknown</td>\n",
              "      <td>no</td>\n",
              "    </tr>\n",
              "    <tr>\n",
              "      <th>11160</th>\n",
              "      <td>43</td>\n",
              "      <td>technician</td>\n",
              "      <td>married</td>\n",
              "      <td>secondary</td>\n",
              "      <td>no</td>\n",
              "      <td>0</td>\n",
              "      <td>no</td>\n",
              "      <td>yes</td>\n",
              "      <td>cellular</td>\n",
              "      <td>8</td>\n",
              "      <td>may</td>\n",
              "      <td>9</td>\n",
              "      <td>2</td>\n",
              "      <td>172</td>\n",
              "      <td>5</td>\n",
              "      <td>failure</td>\n",
              "      <td>no</td>\n",
              "    </tr>\n",
              "    <tr>\n",
              "      <th>11161</th>\n",
              "      <td>34</td>\n",
              "      <td>technician</td>\n",
              "      <td>married</td>\n",
              "      <td>secondary</td>\n",
              "      <td>no</td>\n",
              "      <td>0</td>\n",
              "      <td>no</td>\n",
              "      <td>no</td>\n",
              "      <td>cellular</td>\n",
              "      <td>9</td>\n",
              "      <td>jul</td>\n",
              "      <td>628</td>\n",
              "      <td>1</td>\n",
              "      <td>-1</td>\n",
              "      <td>0</td>\n",
              "      <td>unknown</td>\n",
              "      <td>no</td>\n",
              "    </tr>\n",
              "  </tbody>\n",
              "</table>\n",
              "<p>11162 rows × 17 columns</p>\n",
              "</div>"
            ],
            "text/plain": [
              "       age          job  marital  education  ... pdays  previous poutcome deposit\n",
              "0       59       admin.  married  secondary  ...    -1         0  unknown     yes\n",
              "1       56       admin.  married  secondary  ...    -1         0  unknown     yes\n",
              "2       41   technician  married  secondary  ...    -1         0  unknown     yes\n",
              "3       55     services  married  secondary  ...    -1         0  unknown     yes\n",
              "4       54       admin.  married   tertiary  ...    -1         0  unknown     yes\n",
              "...    ...          ...      ...        ...  ...   ...       ...      ...     ...\n",
              "11157   33  blue-collar   single    primary  ...    -1         0  unknown      no\n",
              "11158   39     services  married  secondary  ...    -1         0  unknown      no\n",
              "11159   32   technician   single  secondary  ...    -1         0  unknown      no\n",
              "11160   43   technician  married  secondary  ...   172         5  failure      no\n",
              "11161   34   technician  married  secondary  ...    -1         0  unknown      no\n",
              "\n",
              "[11162 rows x 17 columns]"
            ]
          },
          "metadata": {
            "tags": []
          },
          "execution_count": 42
        }
      ]
    },
    {
      "cell_type": "markdown",
      "metadata": {
        "id": "h0WkQrOfxg2H",
        "colab_type": "text"
      },
      "source": [
        "**Convert the Label column to 0s and 1s instead of strings**"
      ]
    },
    {
      "cell_type": "code",
      "metadata": {
        "id": "dZOavUstvXjl",
        "colab_type": "code",
        "colab": {
          "base_uri": "https://localhost:8080/",
          "height": 218
        },
        "outputId": "f9fe5dc2-cbdb-44c0-e87a-13c1014063d6"
      },
      "source": [
        "bank['deposit'] = bank['deposit'].replace('yes', 1)\n",
        "bank['deposit'] = bank['deposit'].replace('no', 0)\n",
        "bank['deposit']"
      ],
      "execution_count": 43,
      "outputs": [
        {
          "output_type": "execute_result",
          "data": {
            "text/plain": [
              "0        1\n",
              "1        1\n",
              "2        1\n",
              "3        1\n",
              "4        1\n",
              "        ..\n",
              "11157    0\n",
              "11158    0\n",
              "11159    0\n",
              "11160    0\n",
              "11161    0\n",
              "Name: deposit, Length: 11162, dtype: int64"
            ]
          },
          "metadata": {
            "tags": []
          },
          "execution_count": 43
        }
      ]
    },
    {
      "cell_type": "markdown",
      "metadata": {
        "id": "xi3oVdUbx_W6",
        "colab_type": "text"
      },
      "source": [
        "**Create the Feature Columns for tf.esitmator**"
      ]
    },
    {
      "cell_type": "code",
      "metadata": {
        "id": "XFF15XWEvXdU",
        "colab_type": "code",
        "colab": {}
      },
      "source": [
        "job = feature_column.categorical_column_with_vocabulary_list(\n",
        "      'job',['admin.','blue-collar','entrepreneur','housemaid','management',\n",
        "             'retired','self-employed','services','student','technician',\n",
        "             'unemployed','unknown']\n",
        ")\n",
        "marital = feature_column.categorical_column_with_vocabulary_list(\n",
        "      'marital',['divorced','married','single']\n",
        ")\n",
        "education = feature_column.categorical_column_with_vocabulary_list(\n",
        "      'education',['primary','secondary','tertiary','unknown']\n",
        ")\n",
        "default = feature_column.categorical_column_with_vocabulary_list(\n",
        "      'default',['no','yes']\n",
        ")\n",
        "housing = feature_column.categorical_column_with_vocabulary_list(\n",
        "      'housing',['no','yes']\n",
        ")\n",
        "loan = feature_column.categorical_column_with_vocabulary_list(\n",
        "      'loan',['no','yes']\n",
        ")\n",
        "contact = feature_column.categorical_column_with_vocabulary_list(\n",
        "      'contact',['cellular','telephone','unknown']\n",
        ")\n",
        "month = feature_column.categorical_column_with_vocabulary_list(\n",
        "      'month',['jan','feb','mar','apr','may','jun','jul','aug','sep','oct',\n",
        "               'nov','dec']\n",
        ")\n",
        "poutcome = feature_column.categorical_column_with_vocabulary_list(\n",
        "      'poutcome',['failure','success','unknown','other']\n",
        ")"
      ],
      "execution_count": 0,
      "outputs": []
    },
    {
      "cell_type": "code",
      "metadata": {
        "id": "iL6t6XB3w-n6",
        "colab_type": "code",
        "colab": {}
      },
      "source": [
        "job_hot = feature_column.indicator_column(job)\n",
        "marital_hot = feature_column.indicator_column(marital)\n",
        "education_hot = feature_column.indicator_column(education)\n",
        "default_hot = feature_column.indicator_column(default)\n",
        "housing_hot = feature_column.indicator_column(housing)\n",
        "loan_hot = feature_column.indicator_column(loan)\n",
        "contact_hot = feature_column.indicator_column(contact)\n",
        "month_hot = feature_column.indicator_column(month)\n",
        "poutcome_hot = feature_column.indicator_column(poutcome)"
      ],
      "execution_count": 0,
      "outputs": []
    },
    {
      "cell_type": "code",
      "metadata": {
        "id": "kbtw1p7KvXf8",
        "colab_type": "code",
        "colab": {}
      },
      "source": [
        "age = feature_column.numeric_column(\"age\")\n",
        "balance = feature_column.numeric_column(\"balance\")\n",
        "day = feature_column.numeric_column(\"day\")\n",
        "duration = feature_column.numeric_column(\"duration\")\n",
        "campaign = feature_column.numeric_column(\"campaign\")\n",
        "pdays = feature_column.numeric_column(\"pdays\")\n",
        "previous = feature_column.numeric_column(\"previous\")"
      ],
      "execution_count": 0,
      "outputs": []
    },
    {
      "cell_type": "markdown",
      "metadata": {
        "id": "9hzwLDV4xzm3",
        "colab_type": "text"
      },
      "source": [
        "**Perform a Train Test Split on the Data**"
      ]
    },
    {
      "cell_type": "code",
      "metadata": {
        "id": "FdG7bSYvvXm4",
        "colab_type": "code",
        "colab": {}
      },
      "source": [
        "x_data = bank.drop('deposit',axis=1)\n",
        "y_labels = bank['deposit']\n",
        "X_train, X_test, y_train, y_test = train_test_split(\n",
        "      x_data,y_labels,test_size=0.3,random_state=101)"
      ],
      "execution_count": 0,
      "outputs": []
    },
    {
      "cell_type": "markdown",
      "metadata": {
        "id": "Kogdl_cNyJn8",
        "colab_type": "text"
      },
      "source": [
        "**Put all these variables into a single list with the variable name feat_cols**"
      ]
    },
    {
      "cell_type": "code",
      "metadata": {
        "id": "7TtUuYUwvnlU",
        "colab_type": "code",
        "colab": {}
      },
      "source": [
        "feat_cols = [job_hot,marital_hot,education_hot,default_hot,housing_hot,\n",
        "             loan_hot,contact_hot,month_hot,poutcome_hot,age,balance,\n",
        "             day,duration,campaign,pdays,previous]"
      ],
      "execution_count": 0,
      "outputs": []
    },
    {
      "cell_type": "markdown",
      "metadata": {
        "id": "vtZ3mm74yQ6M",
        "colab_type": "text"
      },
      "source": [
        "**Create Input Function**"
      ]
    },
    {
      "cell_type": "code",
      "metadata": {
        "id": "Tkd2yj5zvnrN",
        "colab_type": "code",
        "colab": {}
      },
      "source": [
        "input_func = tf.estimator.inputs.pandas_input_fn(x=X_train,\n",
        "                                                 y=y_train,\n",
        "                                                 batch_size=10,\n",
        "                                                 num_epochs=None,\n",
        "                                                 shuffle=True)"
      ],
      "execution_count": 0,
      "outputs": []
    },
    {
      "cell_type": "markdown",
      "metadata": {
        "id": "eaGh4mZSyWpy",
        "colab_type": "text"
      },
      "source": [
        "**Create your model with tf.estimator**"
      ]
    },
    {
      "cell_type": "code",
      "metadata": {
        "id": "lLxSIUYavnvp",
        "colab_type": "code",
        "colab": {
          "base_uri": "https://localhost:8080/",
          "height": 188
        },
        "outputId": "38c30b27-5a36-4aa8-eb4e-e3d3d3f4c94a"
      },
      "source": [
        "model = tf.estimator.LinearClassifier(feature_columns=feat_cols)"
      ],
      "execution_count": 50,
      "outputs": [
        {
          "output_type": "stream",
          "text": [
            "INFO:tensorflow:Using default config.\n",
            "WARNING:tensorflow:Using temporary folder as model directory: /tmp/tmp0_gjncyp\n",
            "INFO:tensorflow:Using config: {'_model_dir': '/tmp/tmp0_gjncyp', '_tf_random_seed': None, '_save_summary_steps': 100, '_save_checkpoints_steps': None, '_save_checkpoints_secs': 600, '_session_config': allow_soft_placement: true\n",
            "graph_options {\n",
            "  rewrite_options {\n",
            "    meta_optimizer_iterations: ONE\n",
            "  }\n",
            "}\n",
            ", '_keep_checkpoint_max': 5, '_keep_checkpoint_every_n_hours': 10000, '_log_step_count_steps': 100, '_train_distribute': None, '_device_fn': None, '_protocol': None, '_eval_distribute': None, '_experimental_distribute': None, '_experimental_max_worker_delay_secs': None, '_session_creation_timeout_secs': 7200, '_service': None, '_cluster_spec': <tensorflow.python.training.server_lib.ClusterSpec object at 0x7f0ebaaeb400>, '_task_type': 'worker', '_task_id': 0, '_global_id_in_cluster': 0, '_master': '', '_evaluation_master': '', '_is_chief': True, '_num_ps_replicas': 0, '_num_worker_replicas': 1}\n"
          ],
          "name": "stdout"
        }
      ]
    },
    {
      "cell_type": "markdown",
      "metadata": {
        "id": "audzqSvMyivX",
        "colab_type": "text"
      },
      "source": [
        "**Train your model on the data, for at least 5000 steps**"
      ]
    },
    {
      "cell_type": "code",
      "metadata": {
        "id": "yLN-WY_dvnoR",
        "colab_type": "code",
        "colab": {
          "base_uri": "https://localhost:8080/",
          "height": 1000
        },
        "outputId": "2ffd97e9-529f-4e45-cc7f-84f1073b2e30"
      },
      "source": [
        "model.train(input_fn=input_func,steps=5000)"
      ],
      "execution_count": 51,
      "outputs": [
        {
          "output_type": "stream",
          "text": [
            "INFO:tensorflow:Calling model_fn.\n",
            "INFO:tensorflow:Done calling model_fn.\n",
            "INFO:tensorflow:Create CheckpointSaverHook.\n",
            "INFO:tensorflow:Graph was finalized.\n",
            "INFO:tensorflow:Running local_init_op.\n",
            "INFO:tensorflow:Done running local_init_op.\n",
            "INFO:tensorflow:Saving checkpoints for 0 into /tmp/tmp0_gjncyp/model.ckpt.\n",
            "INFO:tensorflow:loss = 6.931472, step = 1\n",
            "INFO:tensorflow:global_step/sec: 266.859\n",
            "INFO:tensorflow:loss = 27.58372, step = 101 (0.378 sec)\n",
            "INFO:tensorflow:global_step/sec: 338.367\n",
            "INFO:tensorflow:loss = 61.978455, step = 201 (0.293 sec)\n",
            "INFO:tensorflow:global_step/sec: 328.54\n",
            "INFO:tensorflow:loss = 33.71229, step = 301 (0.311 sec)\n",
            "INFO:tensorflow:global_step/sec: 324.119\n",
            "INFO:tensorflow:loss = 16.505962, step = 401 (0.307 sec)\n",
            "INFO:tensorflow:global_step/sec: 328.88\n",
            "INFO:tensorflow:loss = 11.742239, step = 501 (0.306 sec)\n",
            "INFO:tensorflow:global_step/sec: 328.648\n",
            "INFO:tensorflow:loss = 306.59207, step = 601 (0.307 sec)\n",
            "INFO:tensorflow:global_step/sec: 328.985\n",
            "INFO:tensorflow:loss = 35.477158, step = 701 (0.297 sec)\n",
            "INFO:tensorflow:global_step/sec: 341.148\n",
            "INFO:tensorflow:loss = 0.26181737, step = 801 (0.291 sec)\n",
            "INFO:tensorflow:global_step/sec: 331.078\n",
            "INFO:tensorflow:loss = 44.390907, step = 901 (0.302 sec)\n",
            "INFO:tensorflow:global_step/sec: 334.765\n",
            "INFO:tensorflow:loss = 34.541664, step = 1001 (0.299 sec)\n",
            "INFO:tensorflow:global_step/sec: 330.561\n",
            "INFO:tensorflow:loss = 5.0588136, step = 1101 (0.302 sec)\n",
            "INFO:tensorflow:global_step/sec: 329.19\n",
            "INFO:tensorflow:loss = 0.09339063, step = 1201 (0.306 sec)\n",
            "INFO:tensorflow:global_step/sec: 344.157\n",
            "INFO:tensorflow:loss = 14.888949, step = 1301 (0.288 sec)\n",
            "INFO:tensorflow:global_step/sec: 339.995\n",
            "INFO:tensorflow:loss = 10.499481, step = 1401 (0.294 sec)\n",
            "INFO:tensorflow:global_step/sec: 329.955\n",
            "INFO:tensorflow:loss = 4.184123, step = 1501 (0.307 sec)\n",
            "INFO:tensorflow:global_step/sec: 338.167\n",
            "INFO:tensorflow:loss = 17.10521, step = 1601 (0.294 sec)\n",
            "INFO:tensorflow:global_step/sec: 323.801\n",
            "INFO:tensorflow:loss = 30.398638, step = 1701 (0.306 sec)\n",
            "INFO:tensorflow:global_step/sec: 335.871\n",
            "INFO:tensorflow:loss = 38.71828, step = 1801 (0.299 sec)\n",
            "INFO:tensorflow:global_step/sec: 332.345\n",
            "INFO:tensorflow:loss = 23.817472, step = 1901 (0.308 sec)\n",
            "INFO:tensorflow:global_step/sec: 335.898\n",
            "INFO:tensorflow:loss = 12.280031, step = 2001 (0.291 sec)\n",
            "INFO:tensorflow:global_step/sec: 328.124\n",
            "INFO:tensorflow:loss = 0.3400147, step = 2101 (0.314 sec)\n",
            "INFO:tensorflow:global_step/sec: 333.639\n",
            "INFO:tensorflow:loss = 29.285479, step = 2201 (0.301 sec)\n",
            "INFO:tensorflow:global_step/sec: 327.835\n",
            "INFO:tensorflow:loss = 18.19897, step = 2301 (0.302 sec)\n",
            "INFO:tensorflow:global_step/sec: 337.022\n",
            "INFO:tensorflow:loss = 12.256761, step = 2401 (0.293 sec)\n",
            "INFO:tensorflow:global_step/sec: 335.245\n",
            "INFO:tensorflow:loss = 1.0247765, step = 2501 (0.298 sec)\n",
            "INFO:tensorflow:global_step/sec: 335.943\n",
            "INFO:tensorflow:loss = 40.715115, step = 2601 (0.294 sec)\n",
            "INFO:tensorflow:global_step/sec: 332.218\n",
            "INFO:tensorflow:loss = 11.4551735, step = 2701 (0.308 sec)\n",
            "INFO:tensorflow:global_step/sec: 327.37\n",
            "INFO:tensorflow:loss = 20.408398, step = 2801 (0.299 sec)\n",
            "INFO:tensorflow:global_step/sec: 334.517\n",
            "INFO:tensorflow:loss = 3.9779346, step = 2901 (0.301 sec)\n",
            "INFO:tensorflow:global_step/sec: 341.607\n",
            "INFO:tensorflow:loss = 76.11701, step = 3001 (0.288 sec)\n",
            "INFO:tensorflow:global_step/sec: 326.897\n",
            "INFO:tensorflow:loss = 0.3118238, step = 3101 (0.306 sec)\n",
            "INFO:tensorflow:global_step/sec: 337.51\n",
            "INFO:tensorflow:loss = 135.62024, step = 3201 (0.299 sec)\n",
            "INFO:tensorflow:global_step/sec: 329.067\n",
            "INFO:tensorflow:loss = 8.618279, step = 3301 (0.301 sec)\n",
            "INFO:tensorflow:global_step/sec: 333.823\n",
            "INFO:tensorflow:loss = 8.719842, step = 3401 (0.299 sec)\n",
            "INFO:tensorflow:global_step/sec: 330.511\n",
            "INFO:tensorflow:loss = 0.10611506, step = 3501 (0.307 sec)\n",
            "INFO:tensorflow:global_step/sec: 333.35\n",
            "INFO:tensorflow:loss = 4.0622563, step = 3601 (0.297 sec)\n",
            "INFO:tensorflow:global_step/sec: 330.176\n",
            "INFO:tensorflow:loss = 76.74956, step = 3701 (0.312 sec)\n",
            "INFO:tensorflow:global_step/sec: 334.554\n",
            "INFO:tensorflow:loss = 3.8600657, step = 3801 (0.296 sec)\n",
            "INFO:tensorflow:global_step/sec: 301.042\n",
            "INFO:tensorflow:loss = 9.015442, step = 3901 (0.334 sec)\n",
            "INFO:tensorflow:global_step/sec: 325.305\n",
            "INFO:tensorflow:loss = 5.305414, step = 4001 (0.298 sec)\n",
            "INFO:tensorflow:global_step/sec: 338.07\n",
            "INFO:tensorflow:loss = 25.313435, step = 4101 (0.298 sec)\n",
            "INFO:tensorflow:global_step/sec: 334.866\n",
            "INFO:tensorflow:loss = 15.850638, step = 4201 (0.301 sec)\n",
            "INFO:tensorflow:global_step/sec: 332.229\n",
            "INFO:tensorflow:loss = 15.422974, step = 4301 (0.297 sec)\n",
            "INFO:tensorflow:global_step/sec: 331.664\n",
            "INFO:tensorflow:loss = 1.7458863, step = 4401 (0.303 sec)\n",
            "INFO:tensorflow:global_step/sec: 325.314\n",
            "INFO:tensorflow:loss = 34.603718, step = 4501 (0.308 sec)\n",
            "INFO:tensorflow:global_step/sec: 333.131\n",
            "INFO:tensorflow:loss = 11.415757, step = 4601 (0.302 sec)\n",
            "INFO:tensorflow:global_step/sec: 331.693\n",
            "INFO:tensorflow:loss = 14.015077, step = 4701 (0.298 sec)\n",
            "INFO:tensorflow:global_step/sec: 330.227\n",
            "INFO:tensorflow:loss = 11.542044, step = 4801 (0.305 sec)\n",
            "INFO:tensorflow:global_step/sec: 339.001\n",
            "INFO:tensorflow:loss = 12.063707, step = 4901 (0.293 sec)\n",
            "INFO:tensorflow:Saving checkpoints for 5000 into /tmp/tmp0_gjncyp/model.ckpt.\n",
            "INFO:tensorflow:Loss for final step: 26.097775.\n"
          ],
          "name": "stdout"
        },
        {
          "output_type": "execute_result",
          "data": {
            "text/plain": [
              "<tensorflow_estimator.python.estimator.canned.linear.LinearClassifier at 0x7f0ebae6b048>"
            ]
          },
          "metadata": {
            "tags": []
          },
          "execution_count": 51
        }
      ]
    },
    {
      "cell_type": "markdown",
      "metadata": {
        "id": "IoJgBDe8y3wq",
        "colab_type": "text"
      },
      "source": [
        "**Create a prediction input function**"
      ]
    },
    {
      "cell_type": "code",
      "metadata": {
        "id": "7N_h21_jvtzW",
        "colab_type": "code",
        "colab": {}
      },
      "source": [
        "pred_fn = tf.estimator.inputs.pandas_input_fn(\n",
        "    x=X_test,batch_size=len(X_test),shuffle=False)"
      ],
      "execution_count": 0,
      "outputs": []
    },
    {
      "cell_type": "markdown",
      "metadata": {
        "id": "6xcw6o8Oy-zc",
        "colab_type": "text"
      },
      "source": [
        "**Use model.predict() and pass in your input function**"
      ]
    },
    {
      "cell_type": "code",
      "metadata": {
        "id": "0RGskKqNvt25",
        "colab_type": "code",
        "colab": {
          "base_uri": "https://localhost:8080/",
          "height": 118
        },
        "outputId": "60509efe-adcd-4930-e4e6-fa00ed215f4f"
      },
      "source": [
        "predictions = list(model.predict(input_fn=pred_fn))"
      ],
      "execution_count": 53,
      "outputs": [
        {
          "output_type": "stream",
          "text": [
            "INFO:tensorflow:Calling model_fn.\n",
            "INFO:tensorflow:Done calling model_fn.\n",
            "INFO:tensorflow:Graph was finalized.\n",
            "INFO:tensorflow:Restoring parameters from /tmp/tmp0_gjncyp/model.ckpt-5000\n",
            "INFO:tensorflow:Running local_init_op.\n",
            "INFO:tensorflow:Done running local_init_op.\n"
          ],
          "name": "stdout"
        }
      ]
    },
    {
      "cell_type": "markdown",
      "metadata": {
        "id": "V6wOQNd7zKAB",
        "colab_type": "text"
      },
      "source": [
        "**Each item in your list will look like this:**"
      ]
    },
    {
      "cell_type": "code",
      "metadata": {
        "id": "7DEWhiX_vtxv",
        "colab_type": "code",
        "colab": {
          "base_uri": "https://localhost:8080/",
          "height": 134
        },
        "outputId": "b2de2f46-bdfa-4c51-fead-d6838c5f7083"
      },
      "source": [
        "predictions[0]"
      ],
      "execution_count": 54,
      "outputs": [
        {
          "output_type": "execute_result",
          "data": {
            "text/plain": [
              "{'all_class_ids': array([0, 1], dtype=int32),\n",
              " 'all_classes': array([b'0', b'1'], dtype=object),\n",
              " 'class_ids': array([1]),\n",
              " 'classes': array([b'1'], dtype=object),\n",
              " 'logistic': array([0.9999997], dtype=float32),\n",
              " 'logits': array([15.172459], dtype=float32),\n",
              " 'probabilities': array([2.5744524e-07, 9.9999976e-01], dtype=float32)}"
            ]
          },
          "metadata": {
            "tags": []
          },
          "execution_count": 54
        }
      ]
    },
    {
      "cell_type": "markdown",
      "metadata": {
        "id": "NwRoJyuzzQNh",
        "colab_type": "text"
      },
      "source": [
        "**Create a list of only the class_ids key values from the prediction list of dictionaries, these are the predictions you will use to compare against the real y_test values**"
      ]
    },
    {
      "cell_type": "code",
      "metadata": {
        "id": "RMQ3Bw3Qvtvp",
        "colab_type": "code",
        "colab": {}
      },
      "source": [
        "final_preds = []\n",
        "for pred in predictions:\n",
        "    final_preds.append(pred['class_ids'][0])"
      ],
      "execution_count": 0,
      "outputs": []
    },
    {
      "cell_type": "code",
      "metadata": {
        "id": "iGjsSwMDvtrk",
        "colab_type": "code",
        "colab": {
          "base_uri": "https://localhost:8080/",
          "height": 34
        },
        "outputId": "2fef6c80-87f8-4a34-cef5-8a81ef6290bf"
      },
      "source": [
        "final_preds[:20]"
      ],
      "execution_count": 56,
      "outputs": [
        {
          "output_type": "execute_result",
          "data": {
            "text/plain": [
              "[1, 0, 1, 1, 1, 1, 1, 0, 0, 0, 0, 1, 1, 1, 1, 1, 0, 1, 1, 1]"
            ]
          },
          "metadata": {
            "tags": []
          },
          "execution_count": 56
        }
      ]
    },
    {
      "cell_type": "code",
      "metadata": {
        "id": "6rozkitpwUfV",
        "colab_type": "code",
        "colab": {}
      },
      "source": [
        "eval_input_func = tf.estimator.inputs.pandas_input_fn(\n",
        "    x=X_test,y=y_test,batch_size=len(X_test),shuffle=False)"
      ],
      "execution_count": 0,
      "outputs": []
    },
    {
      "cell_type": "code",
      "metadata": {
        "id": "hYcgH2K9v_if",
        "colab_type": "code",
        "colab": {
          "base_uri": "https://localhost:8080/",
          "height": 168
        },
        "outputId": "d12d2981-e069-4d51-dfa6-aaa5b0685395"
      },
      "source": [
        "print(classification_report(y_test,final_preds))"
      ],
      "execution_count": 58,
      "outputs": [
        {
          "output_type": "stream",
          "text": [
            "              precision    recall  f1-score   support\n",
            "\n",
            "           0       0.90      0.61      0.73      1761\n",
            "           1       0.68      0.92      0.78      1588\n",
            "\n",
            "    accuracy                           0.76      3349\n",
            "   macro avg       0.79      0.77      0.76      3349\n",
            "weighted avg       0.80      0.76      0.75      3349\n",
            "\n"
          ],
          "name": "stdout"
        }
      ]
    },
    {
      "cell_type": "code",
      "metadata": {
        "id": "tDq0SYdCwVNe",
        "colab_type": "code",
        "colab": {
          "base_uri": "https://localhost:8080/",
          "height": 423
        },
        "outputId": "4e2a49e7-8cf5-48aa-e2fa-e967d943f334"
      },
      "source": [
        "results = model.evaluate(eval_input_func)\n",
        "results"
      ],
      "execution_count": 59,
      "outputs": [
        {
          "output_type": "stream",
          "text": [
            "INFO:tensorflow:Calling model_fn.\n",
            "WARNING:tensorflow:Trapezoidal rule is known to produce incorrect PR-AUCs; please switch to \"careful_interpolation\" instead.\n",
            "WARNING:tensorflow:Trapezoidal rule is known to produce incorrect PR-AUCs; please switch to \"careful_interpolation\" instead.\n",
            "INFO:tensorflow:Done calling model_fn.\n",
            "INFO:tensorflow:Starting evaluation at 2020-03-25T13:26:38Z\n",
            "INFO:tensorflow:Graph was finalized.\n",
            "INFO:tensorflow:Restoring parameters from /tmp/tmp0_gjncyp/model.ckpt-5000\n",
            "INFO:tensorflow:Running local_init_op.\n",
            "INFO:tensorflow:Done running local_init_op.\n",
            "INFO:tensorflow:Finished evaluation at 2020-03-25-13:26:39\n",
            "INFO:tensorflow:Saving dict for global step 5000: accuracy = 0.7587339, accuracy_baseline = 0.5258286, auc = 0.83513427, auc_precision_recall = 0.8286657, average_loss = 1.6988441, global_step = 5000, label/mean = 0.4741714, loss = 5689.4287, precision = 0.6812268, prediction/mean = 0.6449316, recall = 0.9231738\n",
            "INFO:tensorflow:Saving 'checkpoint_path' summary for global step 5000: /tmp/tmp0_gjncyp/model.ckpt-5000\n"
          ],
          "name": "stdout"
        },
        {
          "output_type": "execute_result",
          "data": {
            "text/plain": [
              "{'accuracy': 0.7587339,\n",
              " 'accuracy_baseline': 0.5258286,\n",
              " 'auc': 0.83513427,\n",
              " 'auc_precision_recall': 0.8286657,\n",
              " 'average_loss': 1.6988441,\n",
              " 'global_step': 5000,\n",
              " 'label/mean': 0.4741714,\n",
              " 'loss': 5689.4287,\n",
              " 'precision': 0.6812268,\n",
              " 'prediction/mean': 0.6449316,\n",
              " 'recall': 0.9231738}"
            ]
          },
          "metadata": {
            "tags": []
          },
          "execution_count": 59
        }
      ]
    }
  ]
}