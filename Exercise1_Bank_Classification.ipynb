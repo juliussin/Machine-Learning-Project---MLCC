{
  "nbformat": 4,
  "nbformat_minor": 0,
  "metadata": {
    "colab": {
      "name": "Exercise1_Bank_Classification.ipynb",
      "provenance": [],
      "collapsed_sections": [],
      "include_colab_link": true
    },
    "kernelspec": {
      "name": "python3",
      "display_name": "Python 3"
    }
  },
  "cells": [
    {
      "cell_type": "markdown",
      "metadata": {
        "id": "view-in-github",
        "colab_type": "text"
      },
      "source": [
        "<a href=\"https://colab.research.google.com/github/putricinto/Machine-Learning-Project---MLCC/blob/master/Exercise1_Bank_Classification.ipynb\" target=\"_parent\"><img src=\"https://colab.research.google.com/assets/colab-badge.svg\" alt=\"Open In Colab\"/></a>"
      ]
    },
    {
      "cell_type": "markdown",
      "metadata": {
        "id": "VsilqGJwfuHx",
        "colab_type": "text"
      },
      "source": [
        "# **Bank Classification**\n",
        "\n",
        "*Bangkit DPS-1 Assignment: First Machine Learning Project*\n"
      ]
    },
    {
      "cell_type": "markdown",
      "metadata": {
        "id": "mgbumVsSxKob",
        "colab_type": "text"
      },
      "source": [
        "**Read in the csv data with pandas**\n",
        "\n",
        "\n",
        "\n"
      ]
    },
    {
      "cell_type": "code",
      "metadata": {
        "id": "6qeOPperCdhl",
        "colab_type": "code",
        "colab": {}
      },
      "source": [
        "%tensorflow_version 2.x"
      ],
      "execution_count": 0,
      "outputs": []
    },
    {
      "cell_type": "code",
      "metadata": {
        "id": "aHykqvIfvT4M",
        "colab_type": "code",
        "colab": {}
      },
      "source": [
        "import pandas as pd\n",
        "import numpy as np\n",
        "from scipy import stats\n",
        "import sys\n",
        "import seaborn as sns\n",
        "import matplotlib.pyplot as plt\n",
        "import tensorflow as tf\n",
        "from tensorflow import feature_column\n",
        "from tensorflow.keras import layers\n",
        "from sklearn.model_selection import train_test_split\n",
        "from sklearn.metrics import classification_report"
      ],
      "execution_count": 0,
      "outputs": []
    },
    {
      "cell_type": "code",
      "metadata": {
        "id": "esFj5xR9vXQI",
        "colab_type": "code",
        "outputId": "f3554250-b4dd-4cd9-88b8-95add0468688",
        "colab": {
          "base_uri": "https://localhost:8080/",
          "height": 402
        }
      },
      "source": [
        "url = 'https://raw.githubusercontent.com/putricinto/Machine-Learning-Project---MLCC/master/bank.csv'\n",
        "bank = pd.read_csv(url)\n",
        "bank"
      ],
      "execution_count": 48,
      "outputs": [
        {
          "output_type": "execute_result",
          "data": {
            "text/html": [
              "<div>\n",
              "<style scoped>\n",
              "    .dataframe tbody tr th:only-of-type {\n",
              "        vertical-align: middle;\n",
              "    }\n",
              "\n",
              "    .dataframe tbody tr th {\n",
              "        vertical-align: top;\n",
              "    }\n",
              "\n",
              "    .dataframe thead th {\n",
              "        text-align: right;\n",
              "    }\n",
              "</style>\n",
              "<table border=\"1\" class=\"dataframe\">\n",
              "  <thead>\n",
              "    <tr style=\"text-align: right;\">\n",
              "      <th></th>\n",
              "      <th>age</th>\n",
              "      <th>job</th>\n",
              "      <th>marital</th>\n",
              "      <th>education</th>\n",
              "      <th>default</th>\n",
              "      <th>balance</th>\n",
              "      <th>housing</th>\n",
              "      <th>loan</th>\n",
              "      <th>contact</th>\n",
              "      <th>day</th>\n",
              "      <th>month</th>\n",
              "      <th>duration</th>\n",
              "      <th>campaign</th>\n",
              "      <th>pdays</th>\n",
              "      <th>previous</th>\n",
              "      <th>poutcome</th>\n",
              "      <th>deposit</th>\n",
              "    </tr>\n",
              "  </thead>\n",
              "  <tbody>\n",
              "    <tr>\n",
              "      <th>0</th>\n",
              "      <td>59</td>\n",
              "      <td>admin.</td>\n",
              "      <td>married</td>\n",
              "      <td>secondary</td>\n",
              "      <td>no</td>\n",
              "      <td>2343</td>\n",
              "      <td>yes</td>\n",
              "      <td>no</td>\n",
              "      <td>unknown</td>\n",
              "      <td>5</td>\n",
              "      <td>may</td>\n",
              "      <td>1042</td>\n",
              "      <td>1</td>\n",
              "      <td>-1</td>\n",
              "      <td>0</td>\n",
              "      <td>unknown</td>\n",
              "      <td>yes</td>\n",
              "    </tr>\n",
              "    <tr>\n",
              "      <th>1</th>\n",
              "      <td>56</td>\n",
              "      <td>admin.</td>\n",
              "      <td>married</td>\n",
              "      <td>secondary</td>\n",
              "      <td>no</td>\n",
              "      <td>45</td>\n",
              "      <td>no</td>\n",
              "      <td>no</td>\n",
              "      <td>unknown</td>\n",
              "      <td>5</td>\n",
              "      <td>may</td>\n",
              "      <td>1467</td>\n",
              "      <td>1</td>\n",
              "      <td>-1</td>\n",
              "      <td>0</td>\n",
              "      <td>unknown</td>\n",
              "      <td>yes</td>\n",
              "    </tr>\n",
              "    <tr>\n",
              "      <th>2</th>\n",
              "      <td>41</td>\n",
              "      <td>technician</td>\n",
              "      <td>married</td>\n",
              "      <td>secondary</td>\n",
              "      <td>no</td>\n",
              "      <td>1270</td>\n",
              "      <td>yes</td>\n",
              "      <td>no</td>\n",
              "      <td>unknown</td>\n",
              "      <td>5</td>\n",
              "      <td>may</td>\n",
              "      <td>1389</td>\n",
              "      <td>1</td>\n",
              "      <td>-1</td>\n",
              "      <td>0</td>\n",
              "      <td>unknown</td>\n",
              "      <td>yes</td>\n",
              "    </tr>\n",
              "    <tr>\n",
              "      <th>3</th>\n",
              "      <td>55</td>\n",
              "      <td>services</td>\n",
              "      <td>married</td>\n",
              "      <td>secondary</td>\n",
              "      <td>no</td>\n",
              "      <td>2476</td>\n",
              "      <td>yes</td>\n",
              "      <td>no</td>\n",
              "      <td>unknown</td>\n",
              "      <td>5</td>\n",
              "      <td>may</td>\n",
              "      <td>579</td>\n",
              "      <td>1</td>\n",
              "      <td>-1</td>\n",
              "      <td>0</td>\n",
              "      <td>unknown</td>\n",
              "      <td>yes</td>\n",
              "    </tr>\n",
              "    <tr>\n",
              "      <th>4</th>\n",
              "      <td>54</td>\n",
              "      <td>admin.</td>\n",
              "      <td>married</td>\n",
              "      <td>tertiary</td>\n",
              "      <td>no</td>\n",
              "      <td>184</td>\n",
              "      <td>no</td>\n",
              "      <td>no</td>\n",
              "      <td>unknown</td>\n",
              "      <td>5</td>\n",
              "      <td>may</td>\n",
              "      <td>673</td>\n",
              "      <td>2</td>\n",
              "      <td>-1</td>\n",
              "      <td>0</td>\n",
              "      <td>unknown</td>\n",
              "      <td>yes</td>\n",
              "    </tr>\n",
              "    <tr>\n",
              "      <th>...</th>\n",
              "      <td>...</td>\n",
              "      <td>...</td>\n",
              "      <td>...</td>\n",
              "      <td>...</td>\n",
              "      <td>...</td>\n",
              "      <td>...</td>\n",
              "      <td>...</td>\n",
              "      <td>...</td>\n",
              "      <td>...</td>\n",
              "      <td>...</td>\n",
              "      <td>...</td>\n",
              "      <td>...</td>\n",
              "      <td>...</td>\n",
              "      <td>...</td>\n",
              "      <td>...</td>\n",
              "      <td>...</td>\n",
              "      <td>...</td>\n",
              "    </tr>\n",
              "    <tr>\n",
              "      <th>11157</th>\n",
              "      <td>33</td>\n",
              "      <td>blue-collar</td>\n",
              "      <td>single</td>\n",
              "      <td>primary</td>\n",
              "      <td>no</td>\n",
              "      <td>1</td>\n",
              "      <td>yes</td>\n",
              "      <td>no</td>\n",
              "      <td>cellular</td>\n",
              "      <td>20</td>\n",
              "      <td>apr</td>\n",
              "      <td>257</td>\n",
              "      <td>1</td>\n",
              "      <td>-1</td>\n",
              "      <td>0</td>\n",
              "      <td>unknown</td>\n",
              "      <td>no</td>\n",
              "    </tr>\n",
              "    <tr>\n",
              "      <th>11158</th>\n",
              "      <td>39</td>\n",
              "      <td>services</td>\n",
              "      <td>married</td>\n",
              "      <td>secondary</td>\n",
              "      <td>no</td>\n",
              "      <td>733</td>\n",
              "      <td>no</td>\n",
              "      <td>no</td>\n",
              "      <td>unknown</td>\n",
              "      <td>16</td>\n",
              "      <td>jun</td>\n",
              "      <td>83</td>\n",
              "      <td>4</td>\n",
              "      <td>-1</td>\n",
              "      <td>0</td>\n",
              "      <td>unknown</td>\n",
              "      <td>no</td>\n",
              "    </tr>\n",
              "    <tr>\n",
              "      <th>11159</th>\n",
              "      <td>32</td>\n",
              "      <td>technician</td>\n",
              "      <td>single</td>\n",
              "      <td>secondary</td>\n",
              "      <td>no</td>\n",
              "      <td>29</td>\n",
              "      <td>no</td>\n",
              "      <td>no</td>\n",
              "      <td>cellular</td>\n",
              "      <td>19</td>\n",
              "      <td>aug</td>\n",
              "      <td>156</td>\n",
              "      <td>2</td>\n",
              "      <td>-1</td>\n",
              "      <td>0</td>\n",
              "      <td>unknown</td>\n",
              "      <td>no</td>\n",
              "    </tr>\n",
              "    <tr>\n",
              "      <th>11160</th>\n",
              "      <td>43</td>\n",
              "      <td>technician</td>\n",
              "      <td>married</td>\n",
              "      <td>secondary</td>\n",
              "      <td>no</td>\n",
              "      <td>0</td>\n",
              "      <td>no</td>\n",
              "      <td>yes</td>\n",
              "      <td>cellular</td>\n",
              "      <td>8</td>\n",
              "      <td>may</td>\n",
              "      <td>9</td>\n",
              "      <td>2</td>\n",
              "      <td>172</td>\n",
              "      <td>5</td>\n",
              "      <td>failure</td>\n",
              "      <td>no</td>\n",
              "    </tr>\n",
              "    <tr>\n",
              "      <th>11161</th>\n",
              "      <td>34</td>\n",
              "      <td>technician</td>\n",
              "      <td>married</td>\n",
              "      <td>secondary</td>\n",
              "      <td>no</td>\n",
              "      <td>0</td>\n",
              "      <td>no</td>\n",
              "      <td>no</td>\n",
              "      <td>cellular</td>\n",
              "      <td>9</td>\n",
              "      <td>jul</td>\n",
              "      <td>628</td>\n",
              "      <td>1</td>\n",
              "      <td>-1</td>\n",
              "      <td>0</td>\n",
              "      <td>unknown</td>\n",
              "      <td>no</td>\n",
              "    </tr>\n",
              "  </tbody>\n",
              "</table>\n",
              "<p>11162 rows × 17 columns</p>\n",
              "</div>"
            ],
            "text/plain": [
              "       age          job  marital  education  ... pdays  previous poutcome deposit\n",
              "0       59       admin.  married  secondary  ...    -1         0  unknown     yes\n",
              "1       56       admin.  married  secondary  ...    -1         0  unknown     yes\n",
              "2       41   technician  married  secondary  ...    -1         0  unknown     yes\n",
              "3       55     services  married  secondary  ...    -1         0  unknown     yes\n",
              "4       54       admin.  married   tertiary  ...    -1         0  unknown     yes\n",
              "...    ...          ...      ...        ...  ...   ...       ...      ...     ...\n",
              "11157   33  blue-collar   single    primary  ...    -1         0  unknown      no\n",
              "11158   39     services  married  secondary  ...    -1         0  unknown      no\n",
              "11159   32   technician   single  secondary  ...    -1         0  unknown      no\n",
              "11160   43   technician  married  secondary  ...   172         5  failure      no\n",
              "11161   34   technician  married  secondary  ...    -1         0  unknown      no\n",
              "\n",
              "[11162 rows x 17 columns]"
            ]
          },
          "metadata": {
            "tags": []
          },
          "execution_count": 48
        }
      ]
    },
    {
      "cell_type": "code",
      "metadata": {
        "id": "TODGBWrPBChN",
        "colab_type": "code",
        "outputId": "2dd1a471-42da-4014-8c4c-4c7aae51406f",
        "colab": {
          "base_uri": "https://localhost:8080/",
          "height": 386
        }
      },
      "source": [
        "bank.info()"
      ],
      "execution_count": 49,
      "outputs": [
        {
          "output_type": "stream",
          "text": [
            "<class 'pandas.core.frame.DataFrame'>\n",
            "RangeIndex: 11162 entries, 0 to 11161\n",
            "Data columns (total 17 columns):\n",
            "age          11162 non-null int64\n",
            "job          11162 non-null object\n",
            "marital      11162 non-null object\n",
            "education    11162 non-null object\n",
            "default      11162 non-null object\n",
            "balance      11162 non-null int64\n",
            "housing      11162 non-null object\n",
            "loan         11162 non-null object\n",
            "contact      11162 non-null object\n",
            "day          11162 non-null int64\n",
            "month        11162 non-null object\n",
            "duration     11162 non-null int64\n",
            "campaign     11162 non-null int64\n",
            "pdays        11162 non-null int64\n",
            "previous     11162 non-null int64\n",
            "poutcome     11162 non-null object\n",
            "deposit      11162 non-null object\n",
            "dtypes: int64(7), object(10)\n",
            "memory usage: 1.4+ MB\n"
          ],
          "name": "stdout"
        }
      ]
    },
    {
      "cell_type": "code",
      "metadata": {
        "id": "oFqzRrOuBHzK",
        "colab_type": "code",
        "outputId": "da0b5e49-22b6-4209-c958-3e84a9fca5f8",
        "colab": {
          "base_uri": "https://localhost:8080/",
          "height": 284
        }
      },
      "source": [
        "bank.describe()"
      ],
      "execution_count": 50,
      "outputs": [
        {
          "output_type": "execute_result",
          "data": {
            "text/html": [
              "<div>\n",
              "<style scoped>\n",
              "    .dataframe tbody tr th:only-of-type {\n",
              "        vertical-align: middle;\n",
              "    }\n",
              "\n",
              "    .dataframe tbody tr th {\n",
              "        vertical-align: top;\n",
              "    }\n",
              "\n",
              "    .dataframe thead th {\n",
              "        text-align: right;\n",
              "    }\n",
              "</style>\n",
              "<table border=\"1\" class=\"dataframe\">\n",
              "  <thead>\n",
              "    <tr style=\"text-align: right;\">\n",
              "      <th></th>\n",
              "      <th>age</th>\n",
              "      <th>balance</th>\n",
              "      <th>day</th>\n",
              "      <th>duration</th>\n",
              "      <th>campaign</th>\n",
              "      <th>pdays</th>\n",
              "      <th>previous</th>\n",
              "    </tr>\n",
              "  </thead>\n",
              "  <tbody>\n",
              "    <tr>\n",
              "      <th>count</th>\n",
              "      <td>11162.000000</td>\n",
              "      <td>11162.000000</td>\n",
              "      <td>11162.000000</td>\n",
              "      <td>11162.000000</td>\n",
              "      <td>11162.000000</td>\n",
              "      <td>11162.000000</td>\n",
              "      <td>11162.000000</td>\n",
              "    </tr>\n",
              "    <tr>\n",
              "      <th>mean</th>\n",
              "      <td>41.231948</td>\n",
              "      <td>1528.538524</td>\n",
              "      <td>15.658036</td>\n",
              "      <td>371.993818</td>\n",
              "      <td>2.508421</td>\n",
              "      <td>51.330407</td>\n",
              "      <td>0.832557</td>\n",
              "    </tr>\n",
              "    <tr>\n",
              "      <th>std</th>\n",
              "      <td>11.913369</td>\n",
              "      <td>3225.413326</td>\n",
              "      <td>8.420740</td>\n",
              "      <td>347.128386</td>\n",
              "      <td>2.722077</td>\n",
              "      <td>108.758282</td>\n",
              "      <td>2.292007</td>\n",
              "    </tr>\n",
              "    <tr>\n",
              "      <th>min</th>\n",
              "      <td>18.000000</td>\n",
              "      <td>-6847.000000</td>\n",
              "      <td>1.000000</td>\n",
              "      <td>2.000000</td>\n",
              "      <td>1.000000</td>\n",
              "      <td>-1.000000</td>\n",
              "      <td>0.000000</td>\n",
              "    </tr>\n",
              "    <tr>\n",
              "      <th>25%</th>\n",
              "      <td>32.000000</td>\n",
              "      <td>122.000000</td>\n",
              "      <td>8.000000</td>\n",
              "      <td>138.000000</td>\n",
              "      <td>1.000000</td>\n",
              "      <td>-1.000000</td>\n",
              "      <td>0.000000</td>\n",
              "    </tr>\n",
              "    <tr>\n",
              "      <th>50%</th>\n",
              "      <td>39.000000</td>\n",
              "      <td>550.000000</td>\n",
              "      <td>15.000000</td>\n",
              "      <td>255.000000</td>\n",
              "      <td>2.000000</td>\n",
              "      <td>-1.000000</td>\n",
              "      <td>0.000000</td>\n",
              "    </tr>\n",
              "    <tr>\n",
              "      <th>75%</th>\n",
              "      <td>49.000000</td>\n",
              "      <td>1708.000000</td>\n",
              "      <td>22.000000</td>\n",
              "      <td>496.000000</td>\n",
              "      <td>3.000000</td>\n",
              "      <td>20.750000</td>\n",
              "      <td>1.000000</td>\n",
              "    </tr>\n",
              "    <tr>\n",
              "      <th>max</th>\n",
              "      <td>95.000000</td>\n",
              "      <td>81204.000000</td>\n",
              "      <td>31.000000</td>\n",
              "      <td>3881.000000</td>\n",
              "      <td>63.000000</td>\n",
              "      <td>854.000000</td>\n",
              "      <td>58.000000</td>\n",
              "    </tr>\n",
              "  </tbody>\n",
              "</table>\n",
              "</div>"
            ],
            "text/plain": [
              "                age       balance  ...         pdays      previous\n",
              "count  11162.000000  11162.000000  ...  11162.000000  11162.000000\n",
              "mean      41.231948   1528.538524  ...     51.330407      0.832557\n",
              "std       11.913369   3225.413326  ...    108.758282      2.292007\n",
              "min       18.000000  -6847.000000  ...     -1.000000      0.000000\n",
              "25%       32.000000    122.000000  ...     -1.000000      0.000000\n",
              "50%       39.000000    550.000000  ...     -1.000000      0.000000\n",
              "75%       49.000000   1708.000000  ...     20.750000      1.000000\n",
              "max       95.000000  81204.000000  ...    854.000000     58.000000\n",
              "\n",
              "[8 rows x 7 columns]"
            ]
          },
          "metadata": {
            "tags": []
          },
          "execution_count": 50
        }
      ]
    },
    {
      "cell_type": "code",
      "metadata": {
        "id": "sjRVjTgBBLLF",
        "colab_type": "code",
        "outputId": "92de0e36-71df-4b13-bb93-f97e00cbdd1c",
        "colab": {
          "base_uri": "https://localhost:8080/",
          "height": 319
        }
      },
      "source": [
        "np.sum(bank.isnull())"
      ],
      "execution_count": 51,
      "outputs": [
        {
          "output_type": "execute_result",
          "data": {
            "text/plain": [
              "age          0\n",
              "job          0\n",
              "marital      0\n",
              "education    0\n",
              "default      0\n",
              "balance      0\n",
              "housing      0\n",
              "loan         0\n",
              "contact      0\n",
              "day          0\n",
              "month        0\n",
              "duration     0\n",
              "campaign     0\n",
              "pdays        0\n",
              "previous     0\n",
              "poutcome     0\n",
              "deposit      0\n",
              "dtype: int64"
            ]
          },
          "metadata": {
            "tags": []
          },
          "execution_count": 51
        }
      ]
    },
    {
      "cell_type": "markdown",
      "metadata": {
        "id": "h0WkQrOfxg2H",
        "colab_type": "text"
      },
      "source": [
        "**Convert the Label column to 0s and 1s instead of strings**"
      ]
    },
    {
      "cell_type": "code",
      "metadata": {
        "id": "dZOavUstvXjl",
        "colab_type": "code",
        "outputId": "dd615cb8-feca-4180-9cb3-13c0d6baaedb",
        "colab": {
          "base_uri": "https://localhost:8080/",
          "height": 218
        }
      },
      "source": [
        "bank['deposit'] = bank['deposit'].replace('yes', 1)\n",
        "bank['deposit'] = bank['deposit'].replace('no', 0)\n",
        "bank['deposit']"
      ],
      "execution_count": 52,
      "outputs": [
        {
          "output_type": "execute_result",
          "data": {
            "text/plain": [
              "0        1\n",
              "1        1\n",
              "2        1\n",
              "3        1\n",
              "4        1\n",
              "        ..\n",
              "11157    0\n",
              "11158    0\n",
              "11159    0\n",
              "11160    0\n",
              "11161    0\n",
              "Name: deposit, Length: 11162, dtype: int64"
            ]
          },
          "metadata": {
            "tags": []
          },
          "execution_count": 52
        }
      ]
    },
    {
      "cell_type": "code",
      "metadata": {
        "id": "oWdu1wRWA-dm",
        "colab_type": "code",
        "outputId": "5c64ff88-ab03-41b9-a0f8-af963bf0c239",
        "colab": {
          "base_uri": "https://localhost:8080/",
          "height": 248
        }
      },
      "source": [
        "y=list(bank['deposit'])\n",
        "labels = 'yes', 'no'\n",
        "sizes = [y.count(1), y.count(0)]\n",
        "\n",
        "fig1, ax1 = plt.subplots()\n",
        "ax1.pie(sizes, labels=labels, autopct='%1.1f%%', startangle=90)\n",
        "ax1.axis('equal')  # Equal aspect ratio ensures that pie is drawn as a circle.\n",
        "\n",
        "plt.show()"
      ],
      "execution_count": 53,
      "outputs": [
        {
          "output_type": "display_data",
          "data": {
            "image/png": "[encoded data removed]",
            "text/plain": [
              "<Figure size 432x288 with 1 Axes>"
            ]
          },
          "metadata": {
            "tags": []
          }
        }
      ]
    },
    {
      "cell_type": "code",
      "metadata": {
        "id": "EH9qQ5UlBbCk",
        "colab_type": "code",
        "outputId": "3d192fb9-87a2-4168-c43e-09b38fbb49b3",
        "colab": {
          "base_uri": "https://localhost:8080/",
          "height": 610
        }
      },
      "source": [
        "fig, axs = plt.subplots(2, 4, figsize=(15, 10))\n",
        "\n",
        "colors = ['pink']\n",
        "axs[0, 0].hist(bank['age'])\n",
        "axs[0, 0].set_title('age')\n",
        "\n",
        "axs[0, 1].hist(bank['balance'])\n",
        "axs[0, 1].set_title('balance')\n",
        "\n",
        "axs[0, 2].hist(bank['day'])\n",
        "axs[0, 2].set_title('day')\n",
        "\n",
        "axs[0, 3].hist(bank['duration'])\n",
        "axs[0, 3].set_title('duration')\n",
        "\n",
        "axs[1, 0].hist(bank['campaign'])\n",
        "axs[1, 0].set_title('campaign')\n",
        "\n",
        "axs[1, 1].hist(bank['pdays'])\n",
        "axs[1, 1].set_title('pdays')\n",
        "\n",
        "axs[1, 2].hist(bank['previous'])\n",
        "axs[1, 2].set_title('previous')\n",
        "\n",
        "plt.show()"
      ],
      "execution_count": 54,
      "outputs": [
        {
          "output_type": "display_data",
          "data": {
            "image/png": "[encoded data removed]",
            "text/plain": [
              "<Figure size 1080x720 with 8 Axes>"
            ]
          },
          "metadata": {
            "tags": []
          }
        }
      ]
    },
    {
      "cell_type": "code",
      "metadata": {
        "id": "figBoI4vBdnJ",
        "colab_type": "code",
        "colab": {}
      },
      "source": [
        "def pdays(row):\n",
        "    if row['pdays'] == -1:\n",
        "        val = 0\n",
        "    else:\n",
        "        val = 1\n",
        "    return val\n",
        "def previous(row):\n",
        "    if row['previous'] == 0:\n",
        "        val = 0\n",
        "    else:\n",
        "        val = 1\n",
        "    return val\n",
        "def campaign(row):\n",
        "    if row['campaign'] == 0:\n",
        "        val = 0\n",
        "    else:\n",
        "        val = 1\n",
        "    return val\n",
        "def balance(row):\n",
        "    if row['balance'] == 0:\n",
        "        val = 0\n",
        "    elif row['balance']<0:\n",
        "        val = -1\n",
        "    else:\n",
        "        val = 1\n",
        "    return val\n",
        "def duration_bin1(row):\n",
        "    if row['duration']<=1000:\n",
        "        val = 1\n",
        "    else:\n",
        "        val = 0\n",
        "    return val\n",
        "def duration_bin2(row):\n",
        "    if 1000<row['duration']<=2000:\n",
        "        val = 1\n",
        "    else:\n",
        "        val = 0\n",
        "    return val\n",
        "def duration_bin3(row):\n",
        "    if 2000<row['duration']<=3000:\n",
        "        val = 1\n",
        "    else:\n",
        "        val = 0\n",
        "    return val\n",
        "bank['pdays_1'] = bank.apply(pdays, axis=1)\n",
        "bank['previous_1'] = bank.apply(previous, axis=1)\n",
        "bank['campaign_1'] = bank.apply(campaign, axis=1)\n",
        "bank['balance_1'] = bank.apply(balance, axis=1)\n",
        "bank['duration_bin1']=bank.apply(duration_bin1, axis=1)\n",
        "bank['duration_bin2']=bank.apply(duration_bin2, axis=1)\n",
        "bank['duration_bin3']=bank.apply(duration_bin3, axis=1)"
      ],
      "execution_count": 0,
      "outputs": []
    },
    {
      "cell_type": "code",
      "metadata": {
        "id": "IdEpy2G6BgwJ",
        "colab_type": "code",
        "colab": {}
      },
      "source": [
        "bank=bank.drop(['pdays','previous','campaign','balance','duration'],1)"
      ],
      "execution_count": 0,
      "outputs": []
    },
    {
      "cell_type": "code",
      "metadata": {
        "id": "760DNn2EBi5z",
        "colab_type": "code",
        "outputId": "0f24f436-2caa-42c9-f744-d98b3d66ee01",
        "colab": {
          "base_uri": "https://localhost:8080/",
          "height": 151
        }
      },
      "source": [
        "bank1=bank.drop(['job','marital','education','default','housing','loan','contact','month','poutcome','pdays_1','previous_1','campaign_1','balance_1','duration_bin1','duration_bin2','duration_bin3','deposit'],1)\n",
        "#Mengatasi Outlier\n",
        "import numpy as np\n",
        "from scipy import stats\n",
        "z=np.abs(stats.zscore(bank1._get_numeric_data()))\n",
        "print(z)\n",
        "bank=bank[(z<3).all(axis=1)]\n",
        "print(bank.shape)"
      ],
      "execution_count": 57,
      "outputs": [
        {
          "output_type": "stream",
          "text": [
            "[[1.49150488 1.26574556]\n",
            " [1.23967567 1.26574556]\n",
            " [0.0194704  1.26574556]\n",
            " ...\n",
            " [0.77495804 0.39689074]\n",
            " [0.14841574 0.90946635]\n",
            " [0.6070719  0.79070662]]\n",
            "(11030, 19)\n"
          ],
          "name": "stdout"
        }
      ]
    },
    {
      "cell_type": "code",
      "metadata": {
        "id": "rWJhQQEwBrTI",
        "colab_type": "code",
        "outputId": "443631eb-87ff-47c6-b78c-af2656b02aa8",
        "colab": {
          "base_uri": "https://localhost:8080/",
          "height": 284
        }
      },
      "source": [
        "bank.describe()"
      ],
      "execution_count": 58,
      "outputs": [
        {
          "output_type": "execute_result",
          "data": {
            "text/html": [
              "<div>\n",
              "<style scoped>\n",
              "    .dataframe tbody tr th:only-of-type {\n",
              "        vertical-align: middle;\n",
              "    }\n",
              "\n",
              "    .dataframe tbody tr th {\n",
              "        vertical-align: top;\n",
              "    }\n",
              "\n",
              "    .dataframe thead th {\n",
              "        text-align: right;\n",
              "    }\n",
              "</style>\n",
              "<table border=\"1\" class=\"dataframe\">\n",
              "  <thead>\n",
              "    <tr style=\"text-align: right;\">\n",
              "      <th></th>\n",
              "      <th>age</th>\n",
              "      <th>day</th>\n",
              "      <th>deposit</th>\n",
              "      <th>pdays_1</th>\n",
              "      <th>previous_1</th>\n",
              "      <th>campaign_1</th>\n",
              "      <th>balance_1</th>\n",
              "      <th>duration_bin1</th>\n",
              "      <th>duration_bin2</th>\n",
              "      <th>duration_bin3</th>\n",
              "    </tr>\n",
              "  </thead>\n",
              "  <tbody>\n",
              "    <tr>\n",
              "      <th>count</th>\n",
              "      <td>11030.000000</td>\n",
              "      <td>11030.000000</td>\n",
              "      <td>11030.000000</td>\n",
              "      <td>11030.000000</td>\n",
              "      <td>11030.000000</td>\n",
              "      <td>11030.0</td>\n",
              "      <td>11030.000000</td>\n",
              "      <td>11030.000000</td>\n",
              "      <td>11030.000000</td>\n",
              "      <td>11030.000000</td>\n",
              "    </tr>\n",
              "    <tr>\n",
              "      <th>mean</th>\n",
              "      <td>40.756936</td>\n",
              "      <td>15.664823</td>\n",
              "      <td>0.470354</td>\n",
              "      <td>0.252312</td>\n",
              "      <td>0.252312</td>\n",
              "      <td>1.0</td>\n",
              "      <td>0.805893</td>\n",
              "      <td>0.936899</td>\n",
              "      <td>0.060199</td>\n",
              "      <td>0.002267</td>\n",
              "    </tr>\n",
              "    <tr>\n",
              "      <th>std</th>\n",
              "      <td>11.151027</td>\n",
              "      <td>8.424056</td>\n",
              "      <td>0.499143</td>\n",
              "      <td>0.434359</td>\n",
              "      <td>0.434359</td>\n",
              "      <td>0.0</td>\n",
              "      <td>0.530288</td>\n",
              "      <td>0.243155</td>\n",
              "      <td>0.237867</td>\n",
              "      <td>0.047556</td>\n",
              "    </tr>\n",
              "    <tr>\n",
              "      <th>min</th>\n",
              "      <td>18.000000</td>\n",
              "      <td>1.000000</td>\n",
              "      <td>0.000000</td>\n",
              "      <td>0.000000</td>\n",
              "      <td>0.000000</td>\n",
              "      <td>1.0</td>\n",
              "      <td>-1.000000</td>\n",
              "      <td>0.000000</td>\n",
              "      <td>0.000000</td>\n",
              "      <td>0.000000</td>\n",
              "    </tr>\n",
              "    <tr>\n",
              "      <th>25%</th>\n",
              "      <td>32.000000</td>\n",
              "      <td>8.000000</td>\n",
              "      <td>0.000000</td>\n",
              "      <td>0.000000</td>\n",
              "      <td>0.000000</td>\n",
              "      <td>1.0</td>\n",
              "      <td>1.000000</td>\n",
              "      <td>1.000000</td>\n",
              "      <td>0.000000</td>\n",
              "      <td>0.000000</td>\n",
              "    </tr>\n",
              "    <tr>\n",
              "      <th>50%</th>\n",
              "      <td>38.000000</td>\n",
              "      <td>15.000000</td>\n",
              "      <td>0.000000</td>\n",
              "      <td>0.000000</td>\n",
              "      <td>0.000000</td>\n",
              "      <td>1.0</td>\n",
              "      <td>1.000000</td>\n",
              "      <td>1.000000</td>\n",
              "      <td>0.000000</td>\n",
              "      <td>0.000000</td>\n",
              "    </tr>\n",
              "    <tr>\n",
              "      <th>75%</th>\n",
              "      <td>49.000000</td>\n",
              "      <td>22.000000</td>\n",
              "      <td>1.000000</td>\n",
              "      <td>1.000000</td>\n",
              "      <td>1.000000</td>\n",
              "      <td>1.0</td>\n",
              "      <td>1.000000</td>\n",
              "      <td>1.000000</td>\n",
              "      <td>0.000000</td>\n",
              "      <td>0.000000</td>\n",
              "    </tr>\n",
              "    <tr>\n",
              "      <th>max</th>\n",
              "      <td>76.000000</td>\n",
              "      <td>31.000000</td>\n",
              "      <td>1.000000</td>\n",
              "      <td>1.000000</td>\n",
              "      <td>1.000000</td>\n",
              "      <td>1.0</td>\n",
              "      <td>1.000000</td>\n",
              "      <td>1.000000</td>\n",
              "      <td>1.000000</td>\n",
              "      <td>1.000000</td>\n",
              "    </tr>\n",
              "  </tbody>\n",
              "</table>\n",
              "</div>"
            ],
            "text/plain": [
              "                age           day  ...  duration_bin2  duration_bin3\n",
              "count  11030.000000  11030.000000  ...   11030.000000   11030.000000\n",
              "mean      40.756936     15.664823  ...       0.060199       0.002267\n",
              "std       11.151027      8.424056  ...       0.237867       0.047556\n",
              "min       18.000000      1.000000  ...       0.000000       0.000000\n",
              "25%       32.000000      8.000000  ...       0.000000       0.000000\n",
              "50%       38.000000     15.000000  ...       0.000000       0.000000\n",
              "75%       49.000000     22.000000  ...       0.000000       0.000000\n",
              "max       76.000000     31.000000  ...       1.000000       1.000000\n",
              "\n",
              "[8 rows x 10 columns]"
            ]
          },
          "metadata": {
            "tags": []
          },
          "execution_count": 58
        }
      ]
    },
    {
      "cell_type": "code",
      "metadata": {
        "id": "vcnHsYhEBty9",
        "colab_type": "code",
        "outputId": "fcc7af56-41d7-4f7e-a101-aad90e40433f",
        "colab": {
          "base_uri": "https://localhost:8080/",
          "height": 285
        }
      },
      "source": [
        "#Jumlah Outlier\n",
        "sns.set(style=\"whitegrid\")\n",
        "c=pd.DataFrame([])\n",
        "c['Keterangan']=[\"Tidak Outlier\",\"Outlier\"]\n",
        "c['Jumlah Observasi']=[11030,132]\n",
        "bx = sns.barplot(x=\"Keterangan\", y=\"Jumlah Observasi\",data=c)\n",
        "plt.show()"
      ],
      "execution_count": 59,
      "outputs": [
        {
          "output_type": "display_data",
          "data": {
            "image/png": "[encoded data removed]",
            "text/plain": [
              "<Figure size 432x288 with 1 Axes>"
            ]
          },
          "metadata": {
            "tags": []
          }
        }
      ]
    },
    {
      "cell_type": "code",
      "metadata": {
        "id": "7S8bi2tfBx6C",
        "colab_type": "code",
        "outputId": "6ef47422-9187-4b39-8fb7-8ed1bd871969",
        "colab": {
          "base_uri": "https://localhost:8080/",
          "height": 354
        }
      },
      "source": [
        "fig, axs = plt.subplots(1, 2, figsize=(10, 5))\n",
        "\n",
        "colors = ['pink']\n",
        "axs[0].hist(bank['age'])\n",
        "axs[0].set_title('age')\n",
        "\n",
        "axs[1].hist(bank['day'])\n",
        "axs[1].set_title('day')"
      ],
      "execution_count": 60,
      "outputs": [
        {
          "output_type": "execute_result",
          "data": {
            "text/plain": [
              "Text(0.5, 1.0, 'day')"
            ]
          },
          "metadata": {
            "tags": []
          },
          "execution_count": 60
        },
        {
          "output_type": "display_data",
          "data": {
            "image/png": "[encoded data removed]",
            "text/plain": [
              "<Figure size 720x360 with 2 Axes>"
            ]
          },
          "metadata": {
            "tags": []
          }
        }
      ]
    },
    {
      "cell_type": "code",
      "metadata": {
        "id": "j_v-lzqVCRUx",
        "colab_type": "code",
        "outputId": "a3e65853-be7d-4338-d1a7-285d54d84907",
        "colab": {
          "base_uri": "https://localhost:8080/",
          "height": 438
        }
      },
      "source": [
        "bank"
      ],
      "execution_count": 61,
      "outputs": [
        {
          "output_type": "execute_result",
          "data": {
            "text/html": [
              "<div>\n",
              "<style scoped>\n",
              "    .dataframe tbody tr th:only-of-type {\n",
              "        vertical-align: middle;\n",
              "    }\n",
              "\n",
              "    .dataframe tbody tr th {\n",
              "        vertical-align: top;\n",
              "    }\n",
              "\n",
              "    .dataframe thead th {\n",
              "        text-align: right;\n",
              "    }\n",
              "</style>\n",
              "<table border=\"1\" class=\"dataframe\">\n",
              "  <thead>\n",
              "    <tr style=\"text-align: right;\">\n",
              "      <th></th>\n",
              "      <th>age</th>\n",
              "      <th>job</th>\n",
              "      <th>marital</th>\n",
              "      <th>education</th>\n",
              "      <th>default</th>\n",
              "      <th>housing</th>\n",
              "      <th>loan</th>\n",
              "      <th>contact</th>\n",
              "      <th>day</th>\n",
              "      <th>month</th>\n",
              "      <th>poutcome</th>\n",
              "      <th>deposit</th>\n",
              "      <th>pdays_1</th>\n",
              "      <th>previous_1</th>\n",
              "      <th>campaign_1</th>\n",
              "      <th>balance_1</th>\n",
              "      <th>duration_bin1</th>\n",
              "      <th>duration_bin2</th>\n",
              "      <th>duration_bin3</th>\n",
              "    </tr>\n",
              "  </thead>\n",
              "  <tbody>\n",
              "    <tr>\n",
              "      <th>0</th>\n",
              "      <td>59</td>\n",
              "      <td>admin.</td>\n",
              "      <td>married</td>\n",
              "      <td>secondary</td>\n",
              "      <td>no</td>\n",
              "      <td>yes</td>\n",
              "      <td>no</td>\n",
              "      <td>unknown</td>\n",
              "      <td>5</td>\n",
              "      <td>may</td>\n",
              "      <td>unknown</td>\n",
              "      <td>1</td>\n",
              "      <td>0</td>\n",
              "      <td>0</td>\n",
              "      <td>1</td>\n",
              "      <td>1</td>\n",
              "      <td>0</td>\n",
              "      <td>1</td>\n",
              "      <td>0</td>\n",
              "    </tr>\n",
              "    <tr>\n",
              "      <th>1</th>\n",
              "      <td>56</td>\n",
              "      <td>admin.</td>\n",
              "      <td>married</td>\n",
              "      <td>secondary</td>\n",
              "      <td>no</td>\n",
              "      <td>no</td>\n",
              "      <td>no</td>\n",
              "      <td>unknown</td>\n",
              "      <td>5</td>\n",
              "      <td>may</td>\n",
              "      <td>unknown</td>\n",
              "      <td>1</td>\n",
              "      <td>0</td>\n",
              "      <td>0</td>\n",
              "      <td>1</td>\n",
              "      <td>1</td>\n",
              "      <td>0</td>\n",
              "      <td>1</td>\n",
              "      <td>0</td>\n",
              "    </tr>\n",
              "    <tr>\n",
              "      <th>2</th>\n",
              "      <td>41</td>\n",
              "      <td>technician</td>\n",
              "      <td>married</td>\n",
              "      <td>secondary</td>\n",
              "      <td>no</td>\n",
              "      <td>yes</td>\n",
              "      <td>no</td>\n",
              "      <td>unknown</td>\n",
              "      <td>5</td>\n",
              "      <td>may</td>\n",
              "      <td>unknown</td>\n",
              "      <td>1</td>\n",
              "      <td>0</td>\n",
              "      <td>0</td>\n",
              "      <td>1</td>\n",
              "      <td>1</td>\n",
              "      <td>0</td>\n",
              "      <td>1</td>\n",
              "      <td>0</td>\n",
              "    </tr>\n",
              "    <tr>\n",
              "      <th>3</th>\n",
              "      <td>55</td>\n",
              "      <td>services</td>\n",
              "      <td>married</td>\n",
              "      <td>secondary</td>\n",
              "      <td>no</td>\n",
              "      <td>yes</td>\n",
              "      <td>no</td>\n",
              "      <td>unknown</td>\n",
              "      <td>5</td>\n",
              "      <td>may</td>\n",
              "      <td>unknown</td>\n",
              "      <td>1</td>\n",
              "      <td>0</td>\n",
              "      <td>0</td>\n",
              "      <td>1</td>\n",
              "      <td>1</td>\n",
              "      <td>1</td>\n",
              "      <td>0</td>\n",
              "      <td>0</td>\n",
              "    </tr>\n",
              "    <tr>\n",
              "      <th>4</th>\n",
              "      <td>54</td>\n",
              "      <td>admin.</td>\n",
              "      <td>married</td>\n",
              "      <td>tertiary</td>\n",
              "      <td>no</td>\n",
              "      <td>no</td>\n",
              "      <td>no</td>\n",
              "      <td>unknown</td>\n",
              "      <td>5</td>\n",
              "      <td>may</td>\n",
              "      <td>unknown</td>\n",
              "      <td>1</td>\n",
              "      <td>0</td>\n",
              "      <td>0</td>\n",
              "      <td>1</td>\n",
              "      <td>1</td>\n",
              "      <td>1</td>\n",
              "      <td>0</td>\n",
              "      <td>0</td>\n",
              "    </tr>\n",
              "    <tr>\n",
              "      <th>...</th>\n",
              "      <td>...</td>\n",
              "      <td>...</td>\n",
              "      <td>...</td>\n",
              "      <td>...</td>\n",
              "      <td>...</td>\n",
              "      <td>...</td>\n",
              "      <td>...</td>\n",
              "      <td>...</td>\n",
              "      <td>...</td>\n",
              "      <td>...</td>\n",
              "      <td>...</td>\n",
              "      <td>...</td>\n",
              "      <td>...</td>\n",
              "      <td>...</td>\n",
              "      <td>...</td>\n",
              "      <td>...</td>\n",
              "      <td>...</td>\n",
              "      <td>...</td>\n",
              "      <td>...</td>\n",
              "    </tr>\n",
              "    <tr>\n",
              "      <th>11157</th>\n",
              "      <td>33</td>\n",
              "      <td>blue-collar</td>\n",
              "      <td>single</td>\n",
              "      <td>primary</td>\n",
              "      <td>no</td>\n",
              "      <td>yes</td>\n",
              "      <td>no</td>\n",
              "      <td>cellular</td>\n",
              "      <td>20</td>\n",
              "      <td>apr</td>\n",
              "      <td>unknown</td>\n",
              "      <td>0</td>\n",
              "      <td>0</td>\n",
              "      <td>0</td>\n",
              "      <td>1</td>\n",
              "      <td>1</td>\n",
              "      <td>1</td>\n",
              "      <td>0</td>\n",
              "      <td>0</td>\n",
              "    </tr>\n",
              "    <tr>\n",
              "      <th>11158</th>\n",
              "      <td>39</td>\n",
              "      <td>services</td>\n",
              "      <td>married</td>\n",
              "      <td>secondary</td>\n",
              "      <td>no</td>\n",
              "      <td>no</td>\n",
              "      <td>no</td>\n",
              "      <td>unknown</td>\n",
              "      <td>16</td>\n",
              "      <td>jun</td>\n",
              "      <td>unknown</td>\n",
              "      <td>0</td>\n",
              "      <td>0</td>\n",
              "      <td>0</td>\n",
              "      <td>1</td>\n",
              "      <td>1</td>\n",
              "      <td>1</td>\n",
              "      <td>0</td>\n",
              "      <td>0</td>\n",
              "    </tr>\n",
              "    <tr>\n",
              "      <th>11159</th>\n",
              "      <td>32</td>\n",
              "      <td>technician</td>\n",
              "      <td>single</td>\n",
              "      <td>secondary</td>\n",
              "      <td>no</td>\n",
              "      <td>no</td>\n",
              "      <td>no</td>\n",
              "      <td>cellular</td>\n",
              "      <td>19</td>\n",
              "      <td>aug</td>\n",
              "      <td>unknown</td>\n",
              "      <td>0</td>\n",
              "      <td>0</td>\n",
              "      <td>0</td>\n",
              "      <td>1</td>\n",
              "      <td>1</td>\n",
              "      <td>1</td>\n",
              "      <td>0</td>\n",
              "      <td>0</td>\n",
              "    </tr>\n",
              "    <tr>\n",
              "      <th>11160</th>\n",
              "      <td>43</td>\n",
              "      <td>technician</td>\n",
              "      <td>married</td>\n",
              "      <td>secondary</td>\n",
              "      <td>no</td>\n",
              "      <td>no</td>\n",
              "      <td>yes</td>\n",
              "      <td>cellular</td>\n",
              "      <td>8</td>\n",
              "      <td>may</td>\n",
              "      <td>failure</td>\n",
              "      <td>0</td>\n",
              "      <td>1</td>\n",
              "      <td>1</td>\n",
              "      <td>1</td>\n",
              "      <td>0</td>\n",
              "      <td>1</td>\n",
              "      <td>0</td>\n",
              "      <td>0</td>\n",
              "    </tr>\n",
              "    <tr>\n",
              "      <th>11161</th>\n",
              "      <td>34</td>\n",
              "      <td>technician</td>\n",
              "      <td>married</td>\n",
              "      <td>secondary</td>\n",
              "      <td>no</td>\n",
              "      <td>no</td>\n",
              "      <td>no</td>\n",
              "      <td>cellular</td>\n",
              "      <td>9</td>\n",
              "      <td>jul</td>\n",
              "      <td>unknown</td>\n",
              "      <td>0</td>\n",
              "      <td>0</td>\n",
              "      <td>0</td>\n",
              "      <td>1</td>\n",
              "      <td>0</td>\n",
              "      <td>1</td>\n",
              "      <td>0</td>\n",
              "      <td>0</td>\n",
              "    </tr>\n",
              "  </tbody>\n",
              "</table>\n",
              "<p>11030 rows × 19 columns</p>\n",
              "</div>"
            ],
            "text/plain": [
              "       age          job  marital  ... duration_bin1 duration_bin2 duration_bin3\n",
              "0       59       admin.  married  ...             0             1             0\n",
              "1       56       admin.  married  ...             0             1             0\n",
              "2       41   technician  married  ...             0             1             0\n",
              "3       55     services  married  ...             1             0             0\n",
              "4       54       admin.  married  ...             1             0             0\n",
              "...    ...          ...      ...  ...           ...           ...           ...\n",
              "11157   33  blue-collar   single  ...             1             0             0\n",
              "11158   39     services  married  ...             1             0             0\n",
              "11159   32   technician   single  ...             1             0             0\n",
              "11160   43   technician  married  ...             1             0             0\n",
              "11161   34   technician  married  ...             1             0             0\n",
              "\n",
              "[11030 rows x 19 columns]"
            ]
          },
          "metadata": {
            "tags": []
          },
          "execution_count": 61
        }
      ]
    },
    {
      "cell_type": "code",
      "metadata": {
        "id": "DppC3G1OJKrE",
        "colab_type": "code",
        "colab": {
          "base_uri": "https://localhost:8080/",
          "height": 101
        },
        "outputId": "fe0ea02d-3c97-40fc-fa00-a7a8c1e9f043"
      },
      "source": [
        "bank.columns"
      ],
      "execution_count": 70,
      "outputs": [
        {
          "output_type": "execute_result",
          "data": {
            "text/plain": [
              "Index(['age', 'job', 'marital', 'education', 'default', 'housing', 'loan',\n",
              "       'contact', 'day', 'month', 'poutcome', 'deposit', 'pdays_1',\n",
              "       'previous_1', 'campaign_1', 'balance_1', 'duration_bin1',\n",
              "       'duration_bin2', 'duration_bin3'],\n",
              "      dtype='object')"
            ]
          },
          "metadata": {
            "tags": []
          },
          "execution_count": 70
        }
      ]
    },
    {
      "cell_type": "markdown",
      "metadata": {
        "id": "xi3oVdUbx_W6",
        "colab_type": "text"
      },
      "source": [
        "**Create the Feature Columns for tf.esitmator**"
      ]
    },
    {
      "cell_type": "code",
      "metadata": {
        "id": "XFF15XWEvXdU",
        "colab_type": "code",
        "colab": {}
      },
      "source": [
        "job = feature_column.categorical_column_with_vocabulary_list(\n",
        "      'job',['admin.','blue-collar','entrepreneur','housemaid','management',\n",
        "             'retired','self-employed','services','student','technician',\n",
        "             'unemployed','unknown']\n",
        ")\n",
        "marital = feature_column.categorical_column_with_vocabulary_list(\n",
        "      'marital',['divorced','married','single']\n",
        ")\n",
        "education = feature_column.categorical_column_with_vocabulary_list(\n",
        "      'education',['primary','secondary','tertiary','unknown']\n",
        ")\n",
        "default = feature_column.categorical_column_with_vocabulary_list(\n",
        "      'default',['no','yes']\n",
        ")\n",
        "housing = feature_column.categorical_column_with_vocabulary_list(\n",
        "      'housing',['no','yes']\n",
        ")\n",
        "loan = feature_column.categorical_column_with_vocabulary_list(\n",
        "      'loan',['no','yes']\n",
        ")\n",
        "contact = feature_column.categorical_column_with_vocabulary_list(\n",
        "      'contact',['cellular','telephone','unknown']\n",
        ")\n",
        "month = feature_column.categorical_column_with_vocabulary_list(\n",
        "      'month',['jan','feb','mar','apr','may','jun','jul','aug','sep','oct',\n",
        "               'nov','dec']\n",
        ")\n",
        "poutcome = feature_column.categorical_column_with_vocabulary_list(\n",
        "      'poutcome',['failure','success','unknown','other']\n",
        ")"
      ],
      "execution_count": 0,
      "outputs": []
    },
    {
      "cell_type": "code",
      "metadata": {
        "id": "iL6t6XB3w-n6",
        "colab_type": "code",
        "colab": {}
      },
      "source": [
        "job_hot = feature_column.indicator_column(job)\n",
        "marital_hot = feature_column.indicator_column(marital)\n",
        "education_hot = feature_column.indicator_column(education)\n",
        "default_hot = feature_column.indicator_column(default)\n",
        "housing_hot = feature_column.indicator_column(housing)\n",
        "loan_hot = feature_column.indicator_column(loan)\n",
        "contact_hot = feature_column.indicator_column(contact)\n",
        "month_hot = feature_column.indicator_column(month)\n",
        "poutcome_hot = feature_column.indicator_column(poutcome)"
      ],
      "execution_count": 0,
      "outputs": []
    },
    {
      "cell_type": "code",
      "metadata": {
        "id": "kbtw1p7KvXf8",
        "colab_type": "code",
        "colab": {}
      },
      "source": [
        "age = feature_column.numeric_column(\"age\")\n",
        "#balance = feature_column.numeric_column(\"balance\")\n",
        "day = feature_column.numeric_column(\"day\")\n",
        "#duration = feature_column.numeric_column(\"duration\")\n",
        "#campaign = feature_column.numeric_column(\"campaign\")\n",
        "#pdays = feature_column.numeric_column(\"pdays\")\n",
        "#previous = feature_column.numeric_column(\"previous\")"
      ],
      "execution_count": 0,
      "outputs": []
    },
    {
      "cell_type": "markdown",
      "metadata": {
        "id": "9hzwLDV4xzm3",
        "colab_type": "text"
      },
      "source": [
        "**Perform a Train Test Split on the Data**"
      ]
    },
    {
      "cell_type": "code",
      "metadata": {
        "id": "FdG7bSYvvXm4",
        "colab_type": "code",
        "colab": {}
      },
      "source": [
        "x_data = bank.drop('deposit',axis=1)\n",
        "y_labels = bank['deposit']\n",
        "X_train, X_test, y_train, y_test = train_test_split(\n",
        "      x_data,y_labels,test_size=0.3,random_state=101)"
      ],
      "execution_count": 0,
      "outputs": []
    },
    {
      "cell_type": "markdown",
      "metadata": {
        "id": "Kogdl_cNyJn8",
        "colab_type": "text"
      },
      "source": [
        "**Put all these variables into a single list with the variable name feat_cols**"
      ]
    },
    {
      "cell_type": "code",
      "metadata": {
        "id": "7TtUuYUwvnlU",
        "colab_type": "code",
        "colab": {}
      },
      "source": [
        "feat_cols = [job_hot,marital_hot,education_hot,default_hot,housing_hot,\n",
        "             loan_hot,contact_hot,month_hot,poutcome_hot,age,day]"
      ],
      "execution_count": 0,
      "outputs": []
    },
    {
      "cell_type": "markdown",
      "metadata": {
        "id": "vtZ3mm74yQ6M",
        "colab_type": "text"
      },
      "source": [
        "**Create Input Function**"
      ]
    },
    {
      "cell_type": "code",
      "metadata": {
        "id": "Tkd2yj5zvnrN",
        "colab_type": "code",
        "colab": {}
      },
      "source": [
        "input_func = tf.compat.v1.estimator.inputs.pandas_input_fn(x=X_train,\n",
        "                                                 y=y_train,\n",
        "                                                 batch_size=10,\n",
        "                                                 num_epochs=None,\n",
        "                                                 shuffle=True)"
      ],
      "execution_count": 0,
      "outputs": []
    },
    {
      "cell_type": "markdown",
      "metadata": {
        "id": "eaGh4mZSyWpy",
        "colab_type": "text"
      },
      "source": [
        "**Create your model with tf.estimator**"
      ]
    },
    {
      "cell_type": "code",
      "metadata": {
        "id": "lLxSIUYavnvp",
        "colab_type": "code",
        "outputId": "6296e7e8-48f8-4af3-ab5c-371fbf4aefd1",
        "colab": {
          "base_uri": "https://localhost:8080/",
          "height": 188
        }
      },
      "source": [
        "model = tf.estimator.LinearClassifier(feature_columns=feat_cols)"
      ],
      "execution_count": 77,
      "outputs": [
        {
          "output_type": "stream",
          "text": [
            "INFO:tensorflow:Using default config.\n",
            "WARNING:tensorflow:Using temporary folder as model directory: /tmp/tmpg59klsjv\n",
            "INFO:tensorflow:Using config: {'_model_dir': '/tmp/tmpg59klsjv', '_tf_random_seed': None, '_save_summary_steps': 100, '_save_checkpoints_steps': None, '_save_checkpoints_secs': 600, '_session_config': allow_soft_placement: true\n",
            "graph_options {\n",
            "  rewrite_options {\n",
            "    meta_optimizer_iterations: ONE\n",
            "  }\n",
            "}\n",
            ", '_keep_checkpoint_max': 5, '_keep_checkpoint_every_n_hours': 10000, '_log_step_count_steps': 100, '_train_distribute': None, '_device_fn': None, '_protocol': None, '_eval_distribute': None, '_experimental_distribute': None, '_experimental_max_worker_delay_secs': None, '_session_creation_timeout_secs': 7200, '_service': None, '_cluster_spec': ClusterSpec({}), '_task_type': 'worker', '_task_id': 0, '_global_id_in_cluster': 0, '_master': '', '_evaluation_master': '', '_is_chief': True, '_num_ps_replicas': 0, '_num_worker_replicas': 1}\n"
          ],
          "name": "stdout"
        }
      ]
    },
    {
      "cell_type": "markdown",
      "metadata": {
        "id": "audzqSvMyivX",
        "colab_type": "text"
      },
      "source": [
        "**Train your model on the data, for at least 5000 steps**"
      ]
    },
    {
      "cell_type": "code",
      "metadata": {
        "id": "yLN-WY_dvnoR",
        "colab_type": "code",
        "outputId": "83c3df72-0b0a-418f-93c2-5f44af4c974f",
        "colab": {
          "base_uri": "https://localhost:8080/",
          "height": 1000
        }
      },
      "source": [
        "model.train(input_fn=input_func,steps=5000)"
      ],
      "execution_count": 78,
      "outputs": [
        {
          "output_type": "stream",
          "text": [
            "INFO:tensorflow:Calling model_fn.\n",
            "WARNING:tensorflow:From /usr/local/lib/python3.6/dist-packages/tensorflow_core/python/feature_column/feature_column_v2.py:4267: IndicatorColumn._variable_shape (from tensorflow.python.feature_column.feature_column_v2) is deprecated and will be removed in a future version.\n",
            "Instructions for updating:\n",
            "The old _FeatureColumn APIs are being deprecated. Please use the new FeatureColumn APIs instead.\n",
            "WARNING:tensorflow:From /usr/local/lib/python3.6/dist-packages/tensorflow_core/python/feature_column/feature_column_v2.py:4322: VocabularyListCategoricalColumn._num_buckets (from tensorflow.python.feature_column.feature_column_v2) is deprecated and will be removed in a future version.\n",
            "Instructions for updating:\n",
            "The old _FeatureColumn APIs are being deprecated. Please use the new FeatureColumn APIs instead.\n",
            "WARNING:tensorflow:From /usr/local/lib/python3.6/dist-packages/tensorflow_core/python/keras/optimizer_v2/ftrl.py:143: calling Constant.__init__ (from tensorflow.python.ops.init_ops) with dtype is deprecated and will be removed in a future version.\n",
            "Instructions for updating:\n",
            "Call initializer instance with the dtype argument instead of passing it to the constructor\n",
            "INFO:tensorflow:Done calling model_fn.\n",
            "INFO:tensorflow:Create CheckpointSaverHook.\n",
            "INFO:tensorflow:Graph was finalized.\n",
            "INFO:tensorflow:Running local_init_op.\n",
            "INFO:tensorflow:Done running local_init_op.\n",
            "WARNING:tensorflow:From /usr/local/lib/python3.6/dist-packages/tensorflow_core/python/training/monitored_session.py:906: start_queue_runners (from tensorflow.python.training.queue_runner_impl) is deprecated and will be removed in a future version.\n",
            "Instructions for updating:\n",
            "To construct input pipelines, use the `tf.data` module.\n",
            "INFO:tensorflow:Saving checkpoints for 0 into /tmp/tmpg59klsjv/model.ckpt.\n",
            "INFO:tensorflow:loss = 0.6931472, step = 0\n",
            "WARNING:tensorflow:It seems that global step (tf.train.get_global_step) has not been increased. Current value (could be stable): 74 vs previous value: 74. You could increase the global step by passing tf.train.get_global_step() to Optimizer.apply_gradients or Optimizer.minimize.\n",
            "INFO:tensorflow:global_step/sec: 281.925\n",
            "INFO:tensorflow:loss = 0.7549561, step = 100 (0.359 sec)\n",
            "WARNING:tensorflow:It seems that global step (tf.train.get_global_step) has not been increased. Current value (could be stable): 115 vs previous value: 115. You could increase the global step by passing tf.train.get_global_step() to Optimizer.apply_gradients or Optimizer.minimize.\n",
            "WARNING:tensorflow:It seems that global step (tf.train.get_global_step) has not been increased. Current value (could be stable): 118 vs previous value: 118. You could increase the global step by passing tf.train.get_global_step() to Optimizer.apply_gradients or Optimizer.minimize.\n",
            "INFO:tensorflow:global_step/sec: 321.529\n",
            "INFO:tensorflow:loss = 0.56544304, step = 200 (0.308 sec)\n",
            "INFO:tensorflow:global_step/sec: 337.29\n",
            "INFO:tensorflow:loss = 0.72522783, step = 300 (0.299 sec)\n",
            "INFO:tensorflow:global_step/sec: 336.402\n",
            "INFO:tensorflow:loss = 0.41798478, step = 400 (0.297 sec)\n",
            "INFO:tensorflow:global_step/sec: 329.994\n",
            "INFO:tensorflow:loss = 0.44513535, step = 500 (0.309 sec)\n",
            "INFO:tensorflow:global_step/sec: 324.117\n",
            "INFO:tensorflow:loss = 0.5637505, step = 600 (0.308 sec)\n",
            "INFO:tensorflow:global_step/sec: 333.436\n",
            "INFO:tensorflow:loss = 0.67116535, step = 700 (0.293 sec)\n",
            "INFO:tensorflow:global_step/sec: 329.297\n",
            "INFO:tensorflow:loss = 0.64042044, step = 800 (0.314 sec)\n",
            "INFO:tensorflow:global_step/sec: 336.192\n",
            "INFO:tensorflow:loss = 0.9142235, step = 900 (0.289 sec)\n",
            "INFO:tensorflow:global_step/sec: 340.935\n",
            "INFO:tensorflow:loss = 0.48793977, step = 1000 (0.294 sec)\n",
            "INFO:tensorflow:global_step/sec: 342.919\n",
            "INFO:tensorflow:loss = 0.4699947, step = 1100 (0.291 sec)\n",
            "INFO:tensorflow:global_step/sec: 336.094\n",
            "INFO:tensorflow:loss = 0.51661134, step = 1200 (0.298 sec)\n",
            "INFO:tensorflow:global_step/sec: 338.573\n",
            "INFO:tensorflow:loss = 0.6073152, step = 1300 (0.295 sec)\n",
            "INFO:tensorflow:global_step/sec: 321.453\n",
            "INFO:tensorflow:loss = 0.5733754, step = 1400 (0.316 sec)\n",
            "INFO:tensorflow:global_step/sec: 342.061\n",
            "INFO:tensorflow:loss = 0.77646524, step = 1500 (0.286 sec)\n",
            "INFO:tensorflow:global_step/sec: 342.54\n",
            "INFO:tensorflow:loss = 0.6239568, step = 1600 (0.291 sec)\n",
            "INFO:tensorflow:global_step/sec: 333.571\n",
            "INFO:tensorflow:loss = 0.50808483, step = 1700 (0.301 sec)\n",
            "INFO:tensorflow:global_step/sec: 326.036\n",
            "INFO:tensorflow:loss = 0.3534872, step = 1800 (0.310 sec)\n",
            "INFO:tensorflow:global_step/sec: 332.884\n",
            "INFO:tensorflow:loss = 0.54335296, step = 1900 (0.295 sec)\n",
            "WARNING:tensorflow:It seems that global step (tf.train.get_global_step) has not been increased. Current value (could be stable): 1901 vs previous value: 1901. You could increase the global step by passing tf.train.get_global_step() to Optimizer.apply_gradients or Optimizer.minimize.\n",
            "INFO:tensorflow:global_step/sec: 331.548\n",
            "INFO:tensorflow:loss = 0.700085, step = 2000 (0.307 sec)\n",
            "INFO:tensorflow:global_step/sec: 332.661\n",
            "INFO:tensorflow:loss = 0.54347616, step = 2100 (0.296 sec)\n",
            "INFO:tensorflow:global_step/sec: 336.501\n",
            "INFO:tensorflow:loss = 0.5703179, step = 2200 (0.296 sec)\n",
            "INFO:tensorflow:global_step/sec: 319.171\n",
            "INFO:tensorflow:loss = 0.5409094, step = 2300 (0.315 sec)\n",
            "INFO:tensorflow:global_step/sec: 334.788\n",
            "INFO:tensorflow:loss = 0.32901984, step = 2400 (0.303 sec)\n",
            "INFO:tensorflow:global_step/sec: 333.686\n",
            "INFO:tensorflow:loss = 0.45240355, step = 2500 (0.294 sec)\n",
            "INFO:tensorflow:global_step/sec: 345.749\n",
            "INFO:tensorflow:loss = 0.5664917, step = 2600 (0.291 sec)\n",
            "INFO:tensorflow:global_step/sec: 325.981\n",
            "INFO:tensorflow:loss = 0.54162794, step = 2700 (0.305 sec)\n",
            "INFO:tensorflow:global_step/sec: 327.376\n",
            "INFO:tensorflow:loss = 0.55291384, step = 2800 (0.307 sec)\n",
            "INFO:tensorflow:global_step/sec: 329.896\n",
            "INFO:tensorflow:loss = 0.6549103, step = 2900 (0.312 sec)\n",
            "INFO:tensorflow:global_step/sec: 339.064\n",
            "INFO:tensorflow:loss = 1.3174812, step = 3000 (0.285 sec)\n",
            "INFO:tensorflow:global_step/sec: 332.377\n",
            "INFO:tensorflow:loss = 0.44818696, step = 3100 (0.303 sec)\n",
            "INFO:tensorflow:global_step/sec: 337.933\n",
            "INFO:tensorflow:loss = 0.64920586, step = 3200 (0.299 sec)\n",
            "INFO:tensorflow:global_step/sec: 339.859\n",
            "INFO:tensorflow:loss = 0.36720318, step = 3300 (0.289 sec)\n",
            "INFO:tensorflow:global_step/sec: 333.446\n",
            "INFO:tensorflow:loss = 0.23838453, step = 3400 (0.301 sec)\n",
            "INFO:tensorflow:global_step/sec: 336.938\n",
            "INFO:tensorflow:loss = 0.3890478, step = 3500 (0.299 sec)\n",
            "INFO:tensorflow:global_step/sec: 325.04\n",
            "INFO:tensorflow:loss = 0.4967133, step = 3600 (0.306 sec)\n",
            "INFO:tensorflow:global_step/sec: 336.253\n",
            "INFO:tensorflow:loss = 0.33856565, step = 3700 (0.297 sec)\n",
            "INFO:tensorflow:global_step/sec: 340.417\n",
            "INFO:tensorflow:loss = 0.48644418, step = 3800 (0.296 sec)\n",
            "INFO:tensorflow:global_step/sec: 330.798\n",
            "INFO:tensorflow:loss = 0.48114547, step = 3900 (0.303 sec)\n",
            "INFO:tensorflow:global_step/sec: 339.343\n",
            "INFO:tensorflow:loss = 0.43837127, step = 4000 (0.290 sec)\n",
            "INFO:tensorflow:global_step/sec: 345.749\n",
            "INFO:tensorflow:loss = 0.5405756, step = 4100 (0.292 sec)\n",
            "INFO:tensorflow:global_step/sec: 334.222\n",
            "INFO:tensorflow:loss = 0.47298527, step = 4200 (0.299 sec)\n",
            "INFO:tensorflow:global_step/sec: 328.722\n",
            "INFO:tensorflow:loss = 0.38506016, step = 4300 (0.308 sec)\n",
            "INFO:tensorflow:global_step/sec: 328.374\n",
            "INFO:tensorflow:loss = 0.8483511, step = 4400 (0.305 sec)\n",
            "INFO:tensorflow:global_step/sec: 330.07\n",
            "INFO:tensorflow:loss = 0.9502646, step = 4500 (0.301 sec)\n",
            "INFO:tensorflow:global_step/sec: 335.4\n",
            "INFO:tensorflow:loss = 0.3850624, step = 4600 (0.297 sec)\n",
            "INFO:tensorflow:global_step/sec: 344.152\n",
            "INFO:tensorflow:loss = 0.7121082, step = 4700 (0.292 sec)\n",
            "INFO:tensorflow:global_step/sec: 330.495\n",
            "INFO:tensorflow:loss = 0.4609818, step = 4800 (0.310 sec)\n",
            "INFO:tensorflow:global_step/sec: 330.611\n",
            "INFO:tensorflow:loss = 0.59172106, step = 4900 (0.301 sec)\n",
            "INFO:tensorflow:Saving checkpoints for 5000 into /tmp/tmpg59klsjv/model.ckpt.\n",
            "INFO:tensorflow:Loss for final step: 0.31519037.\n"
          ],
          "name": "stdout"
        },
        {
          "output_type": "execute_result",
          "data": {
            "text/plain": [
              "<tensorflow_estimator.python.estimator.canned.linear.LinearClassifierV2 at 0x7f0c135e9da0>"
            ]
          },
          "metadata": {
            "tags": []
          },
          "execution_count": 78
        }
      ]
    },
    {
      "cell_type": "markdown",
      "metadata": {
        "id": "IoJgBDe8y3wq",
        "colab_type": "text"
      },
      "source": [
        "**Create a prediction input function**"
      ]
    },
    {
      "cell_type": "code",
      "metadata": {
        "id": "7N_h21_jvtzW",
        "colab_type": "code",
        "colab": {}
      },
      "source": [
        "pred_fn = tf.compat.v1.estimator.inputs.pandas_input_fn(\n",
        "    x=X_test,batch_size=len(X_test),shuffle=False)"
      ],
      "execution_count": 0,
      "outputs": []
    },
    {
      "cell_type": "markdown",
      "metadata": {
        "id": "6xcw6o8Oy-zc",
        "colab_type": "text"
      },
      "source": [
        "**Use model.predict() and pass in your input function**"
      ]
    },
    {
      "cell_type": "code",
      "metadata": {
        "id": "0RGskKqNvt25",
        "colab_type": "code",
        "outputId": "223922e2-5faa-4e9d-ab3c-3608a4042088",
        "colab": {
          "base_uri": "https://localhost:8080/",
          "height": 118
        }
      },
      "source": [
        "predictions = list(model.predict(input_fn=pred_fn))"
      ],
      "execution_count": 81,
      "outputs": [
        {
          "output_type": "stream",
          "text": [
            "INFO:tensorflow:Calling model_fn.\n",
            "INFO:tensorflow:Done calling model_fn.\n",
            "INFO:tensorflow:Graph was finalized.\n",
            "INFO:tensorflow:Restoring parameters from /tmp/tmpg59klsjv/model.ckpt-5000\n",
            "INFO:tensorflow:Running local_init_op.\n",
            "INFO:tensorflow:Done running local_init_op.\n"
          ],
          "name": "stdout"
        }
      ]
    },
    {
      "cell_type": "markdown",
      "metadata": {
        "id": "V6wOQNd7zKAB",
        "colab_type": "text"
      },
      "source": [
        "**Each item in your list will look like this:**"
      ]
    },
    {
      "cell_type": "code",
      "metadata": {
        "id": "7DEWhiX_vtxv",
        "colab_type": "code",
        "outputId": "d5080151-1376-465d-a6f6-e512c3e7ba08",
        "colab": {
          "base_uri": "https://localhost:8080/",
          "height": 134
        }
      },
      "source": [
        "predictions[0]"
      ],
      "execution_count": 82,
      "outputs": [
        {
          "output_type": "execute_result",
          "data": {
            "text/plain": [
              "{'all_class_ids': array([0, 1], dtype=int32),\n",
              " 'all_classes': array([b'0', b'1'], dtype=object),\n",
              " 'class_ids': array([0]),\n",
              " 'classes': array([b'0'], dtype=object),\n",
              " 'logistic': array([0.0963715], dtype=float32),\n",
              " 'logits': array([-2.2382078], dtype=float32),\n",
              " 'probabilities': array([0.90362847, 0.0963715 ], dtype=float32)}"
            ]
          },
          "metadata": {
            "tags": []
          },
          "execution_count": 82
        }
      ]
    },
    {
      "cell_type": "markdown",
      "metadata": {
        "id": "NwRoJyuzzQNh",
        "colab_type": "text"
      },
      "source": [
        "**Create a list of only the class_ids key values from the prediction list of dictionaries, these are the predictions you will use to compare against the real y_test values**"
      ]
    },
    {
      "cell_type": "code",
      "metadata": {
        "id": "RMQ3Bw3Qvtvp",
        "colab_type": "code",
        "colab": {}
      },
      "source": [
        "final_preds = []\n",
        "for pred in predictions:\n",
        "    final_preds.append(pred['class_ids'][0])"
      ],
      "execution_count": 0,
      "outputs": []
    },
    {
      "cell_type": "code",
      "metadata": {
        "id": "iGjsSwMDvtrk",
        "colab_type": "code",
        "outputId": "55c00cf8-9000-44c1-9e0b-9db15422609b",
        "colab": {
          "base_uri": "https://localhost:8080/",
          "height": 34
        }
      },
      "source": [
        "final_preds[:20]"
      ],
      "execution_count": 84,
      "outputs": [
        {
          "output_type": "execute_result",
          "data": {
            "text/plain": [
              "[0, 1, 0, 1, 0, 0, 0, 1, 0, 0, 0, 0, 1, 1, 0, 0, 0, 0, 0, 0]"
            ]
          },
          "metadata": {
            "tags": []
          },
          "execution_count": 84
        }
      ]
    },
    {
      "cell_type": "code",
      "metadata": {
        "id": "6rozkitpwUfV",
        "colab_type": "code",
        "colab": {}
      },
      "source": [
        "eval_input_func = tf.compat.v1.estimator.inputs.pandas_input_fn(\n",
        "    x=X_test,y=y_test,batch_size=len(X_test),shuffle=False)"
      ],
      "execution_count": 0,
      "outputs": []
    },
    {
      "cell_type": "code",
      "metadata": {
        "id": "hYcgH2K9v_if",
        "colab_type": "code",
        "outputId": "7b0dfb4c-0853-463b-d85b-83cda1187718",
        "colab": {
          "base_uri": "https://localhost:8080/",
          "height": 168
        }
      },
      "source": [
        "print(classification_report(y_test,final_preds))"
      ],
      "execution_count": 87,
      "outputs": [
        {
          "output_type": "stream",
          "text": [
            "              precision    recall  f1-score   support\n",
            "\n",
            "           0       0.63      0.94      0.75      1734\n",
            "           1       0.85      0.39      0.53      1575\n",
            "\n",
            "    accuracy                           0.68      3309\n",
            "   macro avg       0.74      0.66      0.64      3309\n",
            "weighted avg       0.74      0.68      0.65      3309\n",
            "\n"
          ],
          "name": "stdout"
        }
      ]
    },
    {
      "cell_type": "code",
      "metadata": {
        "id": "tDq0SYdCwVNe",
        "colab_type": "code",
        "outputId": "0c357c13-766e-4ce1-cb66-ef74ef03a293",
        "colab": {
          "base_uri": "https://localhost:8080/",
          "height": 406
        }
      },
      "source": [
        "results = model.evaluate(eval_input_func)\n",
        "results"
      ],
      "execution_count": 88,
      "outputs": [
        {
          "output_type": "stream",
          "text": [
            "INFO:tensorflow:Calling model_fn.\n",
            "INFO:tensorflow:Done calling model_fn.\n",
            "INFO:tensorflow:Starting evaluation at 2020-03-26T09:28:10Z\n",
            "INFO:tensorflow:Graph was finalized.\n",
            "INFO:tensorflow:Restoring parameters from /tmp/tmpg59klsjv/model.ckpt-5000\n",
            "INFO:tensorflow:Running local_init_op.\n",
            "INFO:tensorflow:Done running local_init_op.\n",
            "INFO:tensorflow:Inference Time : 0.79214s\n",
            "INFO:tensorflow:Finished evaluation at 2020-03-26-09:28:11\n",
            "INFO:tensorflow:Saving dict for global step 5000: accuracy = 0.6769417, accuracy_baseline = 0.5240254, auc = 0.7515007, auc_precision_recall = 0.7592236, average_loss = 0.61749357, global_step = 5000, label/mean = 0.47597462, loss = 0.61749357, precision = 0.85434175, prediction/mean = 0.35654584, recall = 0.3873016\n",
            "INFO:tensorflow:Saving 'checkpoint_path' summary for global step 5000: /tmp/tmpg59klsjv/model.ckpt-5000\n"
          ],
          "name": "stdout"
        },
        {
          "output_type": "execute_result",
          "data": {
            "text/plain": [
              "{'accuracy': 0.6769417,\n",
              " 'accuracy_baseline': 0.5240254,\n",
              " 'auc': 0.7515007,\n",
              " 'auc_precision_recall': 0.7592236,\n",
              " 'average_loss': 0.61749357,\n",
              " 'global_step': 5000,\n",
              " 'label/mean': 0.47597462,\n",
              " 'loss': 0.61749357,\n",
              " 'precision': 0.85434175,\n",
              " 'prediction/mean': 0.35654584,\n",
              " 'recall': 0.3873016}"
            ]
          },
          "metadata": {
            "tags": []
          },
          "execution_count": 88
        }
      ]
    }
  ]
}